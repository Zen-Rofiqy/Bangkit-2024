{
 "cells": [
  {
   "cell_type": "markdown",
   "metadata": {},
   "source": [
    "## Notes \n",
    "* Ganti environtment dulu di terminal dengan `python -m venv myenv` (`myenv` itu nama environtment nya). Terus klik yes.\n",
    "* Terus run `myenv\\Scripts\\activate` di terminal. Kalo udah berhasil, ada tulisan `(myenv)` di depan path nya. \n",
    "* Baru abis itu bisa install package apapun. Misal `pip install numpy`.\n",
    "* mungkin opsional(?) `pip install ipykernel`. \n",
    "* Kalo mau bikin kernel baru `python -m ipykernel install --user --name numpy_kernel`\n",
    "\n",
    "Kalo masih putih di `numpy` nya:\n",
    "* arahin kursor ke `numpy` nya, terus ada icon lampu putih di sebelah kiri, klik\n",
    "* Klik \"select different jupyter kernel\"\n",
    "* Klik \"select another kernel\"\n",
    "* Klik \"python environments\"\n",
    "* Pilih yang `myenv` (sesuai nama environment kalian)\n"
   ]
  },
  {
   "cell_type": "code",
   "execution_count": 1,
   "metadata": {},
   "outputs": [
    {
     "data": {
      "text/plain": [
       "array([2, 3, 6, 5])"
      ]
     },
     "execution_count": 1,
     "metadata": {},
     "output_type": "execute_result"
    }
   ],
   "source": [
    "#! C:\\Users\\Fathan\\Documents\\Obsidian Vault\\2. Kuliah\\Smt 6\\@ Bangkit 2024\\myenv\\Scripts\\python.exe\n",
    "import numpy as np\n",
    "array_1 = np.array([2, 3, 6, 5])\n",
    "array_1\n",
    "\n",
    "import pandas as pd"
   ]
  },
  {
   "cell_type": "code",
   "execution_count": null,
   "metadata": {},
   "outputs": [],
   "source": []
  }
 ],
 "metadata": {
  "kernelspec": {
   "display_name": "Python 3",
   "language": "python",
   "name": "python3"
  },
  "language_info": {
   "codemirror_mode": {
    "name": "ipython",
    "version": 3
   },
   "file_extension": ".py",
   "mimetype": "text/x-python",
   "name": "python",
   "nbconvert_exporter": "python",
   "pygments_lexer": "ipython3",
   "version": "3.10.6"
  }
 },
 "nbformat": 4,
 "nbformat_minor": 2
}
