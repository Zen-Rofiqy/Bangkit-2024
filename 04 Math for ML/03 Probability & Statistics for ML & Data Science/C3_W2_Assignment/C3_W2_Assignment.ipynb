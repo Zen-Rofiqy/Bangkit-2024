{
 "cells": [
  {
   "cell_type": "markdown",
   "id": "4caafec3",
   "metadata": {},
   "source": [
    "# Loaded dice \n",
    "\n",
    "Welcome to the second assignment in the course Probability and Statistics for Machine Learning and Data Science! In this quiz-like assignment you will test your intuition about the concepts covered in the lectures by taking the example with the dice to the next level. \n",
    "\n",
    "**This assignment can be completed with just pencil and paper, or even your intuition about probability, but in many questions using the skills you're developing as a programmer may help**. "
   ]
  },
  {
   "cell_type": "markdown",
   "id": "3bff9c20",
   "metadata": {},
   "source": [
    "## 1 - Introduction\n",
    "\n",
    "You will be presented with 11 questions regarding a several dice games. Sometimes the dice is loaded, sometimes it is not. You will have clear instructions for each exercise.\n",
    "\n",
    "### 1.1 How to go through the assignment\n",
    "\n",
    "In each exercise you there will be a question about throwing some dice that may or may not be loaded. You will have to answer questions about the results of each scenario, such as calculating the expected value of the dice throw or selecting the graph that best represents the distribution of outcomes. \n",
    "\n",
    "In any case, **you will be able to solve the exercise with one of the following methods:**\n",
    "\n",
    "- **By hand:** You may make your calculations by hand, using the theory you have developed in the lectures.\n",
    "- **Using Python:** You may use the empty block of code provided to make computations and simulations, to obtain the result.\n",
    "\n",
    "After each exercise you will save your solution by running a special code cell and adding your answer. The cells contain a single line of code in the format `utils.exercise_1()` which will launch the interface in which you can save your answer. **You will save your responses to each exercise as you go, but you won't submit all your responses for grading until you submit this assignment at the end.**\n",
    "\n",
    "Let's go over an example! Before, let's import the necessary libraries."
   ]
  },
  {
   "cell_type": "markdown",
   "id": "3d256624",
   "metadata": {},
   "source": [
    "## 2 - Importing the libraries"
   ]
  },
  {
   "cell_type": "code",
   "execution_count": 1,
   "id": "da0fcf2f",
   "metadata": {},
   "outputs": [],
   "source": [
    "import numpy as np\n",
    "import pandas as pd\n",
    "import seaborn as sns\n",
    "import matplotlib.pyplot as plt\n",
    "import utils"
   ]
  },
  {
   "cell_type": "markdown",
   "id": "e1637bc9",
   "metadata": {},
   "source": [
    "## 3 - A worked example on how to complete this assignment.\n",
    "\n",
    "Now let's go over one example question, so you understand how to go through the assignment.\n",
    "\n",
    "### 3.1 Example question\n",
    "\n",
    "Question: Given a 6-sided fair dice, you throw it two times and save the result. What is the probability that the sum of your two throws is greater than 5? (Give your result with 1 decimal place).\n",
    "\n",
    "After the question, you will see the following block of code."
   ]
  },
  {
   "cell_type": "code",
   "execution_count": 2,
   "id": "c789233e",
   "metadata": {},
   "outputs": [],
   "source": [
    "# You can use this cell for your calculations (not graded)\n"
   ]
  },
  {
   "cell_type": "markdown",
   "id": "02528065",
   "metadata": {},
   "source": [
    "You may use it as you wish to solve the exercise. Or you can just ignore it and use pencil and pen to solve. It is up to you! **You will only save your final answer**. \n",
    "\n",
    "### 3.2 Solving using simulations in Python\n",
    "\n",
    "Let's solve this question in both ways. First, using Python. You may check the ungraded lab Dice Simulations that appears right before this assignment to help you simulate dice throws. Remember that, to get a good approximation, you need to simulate it a lot of times! You will see why this is true in the following weeks, but this is quite intuitive."
   ]
  },
  {
   "cell_type": "code",
   "execution_count": 2,
   "id": "309a3457",
   "metadata": {},
   "outputs": [
    {
     "name": "stdout",
     "output_type": "stream",
     "text": [
      "The probability by this simulation is: 0.719\n"
     ]
    }
   ],
   "source": [
    "# You can use this cell for your calculations (not graded)\n",
    "\n",
    "# This list represents each dice side\n",
    "dice = [1,2,3,4,5,6]\n",
    "\n",
    "# The idea is to randomly choose one element from this list three times and sum them. \n",
    "# Each time we choose, it is as if we had thrown a dice and the side is the chosen number.\n",
    "# This list will store the sum for each iteration. The idea is to repeat this experiment several times.\n",
    "sum_results = []\n",
    "\n",
    "number_iterations = 1000\n",
    "\n",
    "# Setting a random seed just for reproducibility\n",
    "np.random.seed(42)\n",
    "# It will play this game number_iteration times\n",
    "for i in range(number_iterations):\n",
    "    # Throw the first dice\n",
    "    throw_1 = np.random.choice(dice)\n",
    "    # Throw the second dice\n",
    "    throw_2 = np.random.choice(dice)\n",
    "    # Sum the result\n",
    "    sum_throw = throw_1 + throw_2\n",
    "    # Append to the sum_result list\n",
    "    sum_results.append(sum_throw)\n",
    "\n",
    "# After recording all the sums, the actual probability will be very close to the proportion among every sum greater than 10 in the sum_results list.\n",
    "greater_5_count = 0\n",
    "\n",
    "for x in sum_results:\n",
    "    if x > 5:\n",
    "        greater_5_count += 1\n",
    "\n",
    "probability = greater_5_count/len(sum_results)    \n",
    "print(f\"The probability by this simulation is: {probability}\")"
   ]
  },
  {
   "cell_type": "markdown",
   "id": "37524317",
   "metadata": {},
   "source": [
    "So the result you would get, rounding in to decimal place, would be 0.7! Let's solve it \"by hand\".\n",
    "\n",
    "### 3.3 Solving using the theory\n",
    "\n",
    "When throwing two dice, there are $36$ possible outcomes:\n",
    "\n",
    "$$(1,1), (1,2), \\ldots, (6,6)$$\n",
    "\n",
    "You must count how many of them lead to a sum greater than 5. They are:\n",
    "\n",
    "* If the first throw is $1$, there are $2$ possibilities for the second throw: 5 or 6.\n",
    "* If the first throw is $2$, there are $3$ possibilities for the second throw: 4, 5 or 6.\n",
    "* If the first throw is $3$, there are $4$ possibilities for the second throw: 3, 4, 5 or 6.\n",
    "* If the first throw is $4$, there are $5$ possibilities for the second throw: 2, 3, 4, 5 or 6.\n",
    "* If the first throw is $5$, there are $6$ possibilities for the second throw: 1, 2, 3, 4, 5 or 6.\n",
    "* If the first throw is $6$, there are $6$ possibilities for the second throw: 1, 2, 3, 4, 5 or 6.\n",
    "\n",
    "So, in total there are $2 + 3 + 4 + 5 + 6 + 6 = 26$, possibilities that sum greater than 5.\n",
    "\n",
    "The probability is then $\\frac{26}{36} \\approx 0.72$. Rounding it to 1 decimal place, the result is also 0.7!\n"
   ]
  },
  {
   "cell_type": "markdown",
   "id": "29b9f3ed",
   "metadata": {},
   "source": [
    "### 3.4 Saving your answer\n",
    "\n",
    "Once you get your answer in hands, it is time to save it. Run the next code below to see what it will look like. You just add your answer as requested and click on \"Save your answer!\""
   ]
  },
  {
   "cell_type": "code",
   "execution_count": 3,
   "id": "38539358",
   "metadata": {},
   "outputs": [
    {
     "data": {
      "application/vnd.jupyter.widget-view+json": {
       "model_id": "4a161e6815d84205944c2caa31a4e0bb",
       "version_major": 2,
       "version_minor": 0
      },
      "text/plain": [
       "FloatText(value=0.0, description='Probability:')"
      ]
     },
     "metadata": {},
     "output_type": "display_data"
    },
    {
     "data": {
      "application/vnd.jupyter.widget-view+json": {
       "model_id": "5148d478d367418b8128efaebcbd672e",
       "version_major": 2,
       "version_minor": 0
      },
      "text/plain": [
       "Button(button_style='success', description='Save your answer!', style=ButtonStyle())"
      ]
     },
     "metadata": {},
     "output_type": "display_data"
    },
    {
     "data": {
      "application/vnd.jupyter.widget-view+json": {
       "model_id": "730cd1f223cb4015b1e7e033de1c3861",
       "version_major": 2,
       "version_minor": 0
      },
      "text/plain": [
       "Output()"
      ]
     },
     "metadata": {},
     "output_type": "display_data"
    }
   ],
   "source": [
    "utils.exercise_example()"
   ]
  },
  {
   "cell_type": "markdown",
   "id": "73d4776c",
   "metadata": {},
   "source": [
    "And that's it! Once you save one question, you can go to the next one. If you want to change your solution, just run the code again and input the new solution, it will overwrite the previous one. At the end of the assignment, you will be able to check if you have forgotten to save any question. \n",
    "\n",
    "Once you finish the assignment, you may submit it as you usually would. Your most recently save answers to each exercise will then be graded."
   ]
  },
  {
   "cell_type": "markdown",
   "id": "4546a127",
   "metadata": {},
   "source": [
    "## 4 - Some concept clarifications 🎲🎲🎲\n",
    "\n",
    "During this assignment you will be presented with various scenarios that involve dice. Usually dice can have different numbers of sides and can be either fair or loaded.\n",
    "\n",
    "- A fair dice has equal probability of landing on every side.\n",
    "- A loaded dice does not have equal probability of landing on every side. Usually one (or more) sides have a greater probability of showing up than the rest.\n",
    "\n",
    "Alright, that's all your need to know to complete this assignment. Time to start rolling some dice!"
   ]
  },
  {
   "cell_type": "markdown",
   "id": "c8f09f02",
   "metadata": {},
   "source": [
    "## Exercise 1:\n",
    "\n"
   ]
  },
  {
   "cell_type": "markdown",
   "id": "3510c610",
   "metadata": {},
   "source": [
    "Given a 6-sided fair dice (all of the sides have equal probability of showing up), compute the mean and variance for the probability distribution that models said dice. The next figure shows you a visual represenatation of said distribution:\n",
    "\n",
    "<img src=\"./images/fair_dice.png\" style=\"height: 300px;\"/>\n",
    "\n",
    "**Submission considerations:**\n",
    "- Submit your answers as floating point numbers with three digits after the decimal point\n",
    "- Example: To submit the value of 1/4 enter 0.250"
   ]
  },
  {
   "cell_type": "markdown",
   "id": "5ee9b479",
   "metadata": {},
   "source": [
    "Hints: \n",
    "- You can use [np.random.choice](https://numpy.org/doc/stable/reference/random/generated/numpy.random.choice.html) to simulate a fair dice.\n",
    "- You can use [np.mean](https://numpy.org/doc/stable/reference/generated/numpy.mean.html) and [np.var](https://numpy.org/doc/stable/reference/generated/numpy.var.html) to compute the mean and variance of a numpy array."
   ]
  },
  {
   "cell_type": "code",
   "execution_count": 50,
   "id": "df437e8e",
   "metadata": {},
   "outputs": [
    {
     "name": "stdout",
     "output_type": "stream",
     "text": [
      "Mean: 3.514\n",
      "Variance: 2.878\n"
     ]
    }
   ],
   "source": [
    "# You can use this cell for your calculations (not graded)\n",
    "np.random.seed(361)\n",
    "\n",
    "# Define the sides of the fair dice\n",
    "dice = [1, 2, 3, 4, 5, 6]\n",
    "\n",
    "# Simulate throwing the dice 1000 times\n",
    "throws = np.random.choice(dice, size=1000)\n",
    "\n",
    "# Calculate mean and variance\n",
    "mean = np.mean(throws)\n",
    "variance = np.var(throws)\n",
    "\n",
    "print(\"Mean:\", round(mean, 3))\n",
    "print(\"Variance:\", round(variance, 3))"
   ]
  },
  {
   "cell_type": "code",
   "execution_count": 5,
   "id": "db9477e7",
   "metadata": {},
   "outputs": [
    {
     "data": {
      "application/vnd.jupyter.widget-view+json": {
       "model_id": "49b39c210f1640af90980ec5e01537c3",
       "version_major": 2,
       "version_minor": 0
      },
      "text/plain": [
       "FloatText(value=0.0, description='Mean:')"
      ]
     },
     "metadata": {},
     "output_type": "display_data"
    },
    {
     "data": {
      "application/vnd.jupyter.widget-view+json": {
       "model_id": "f7f8b9dad18f46ff9636487cdc2a9f9c",
       "version_major": 2,
       "version_minor": 0
      },
      "text/plain": [
       "FloatText(value=0.0, description='Variance:')"
      ]
     },
     "metadata": {},
     "output_type": "display_data"
    },
    {
     "data": {
      "application/vnd.jupyter.widget-view+json": {
       "model_id": "7fe5b4ef2b284571b9ba793f46b9ef93",
       "version_major": 2,
       "version_minor": 0
      },
      "text/plain": [
       "Button(button_style='success', description='Save your answer!', style=ButtonStyle())"
      ]
     },
     "metadata": {},
     "output_type": "display_data"
    },
    {
     "data": {
      "application/vnd.jupyter.widget-view+json": {
       "model_id": "162cab5374c64c4694a8744ce3440f3f",
       "version_major": 2,
       "version_minor": 0
      },
      "text/plain": [
       "Output()"
      ]
     },
     "metadata": {},
     "output_type": "display_data"
    }
   ],
   "source": [
    "# Run this cell to submit your answer\n",
    "utils.exercise_1()"
   ]
  },
  {
   "cell_type": "markdown",
   "id": "d43dcbbd",
   "metadata": {},
   "source": [
    "## Exercise 2:\n",
    "\n",
    "Now suppose you are throwing the dice (same dice as in the previous exercise) two times and recording the sum of each throw. Which of the following `probability mass functions` will be the one you should get?\n",
    "\n",
    "<table><tr>\n",
    "<td> <img src=\"./images/hist_sum_6_side.png\" style=\"height: 300px;\"/> </td>\n",
    "<td> <img src=\"./images/hist_sum_5_side.png\" style=\"height: 300px;\"/> </td>\n",
    "<td> <img src=\"./images/hist_sum_6_uf.png\" style=\"height: 300px;\"/> </td>\n",
    "</tr></table>\n"
   ]
  },
  {
   "cell_type": "markdown",
   "id": "605c58c0",
   "metadata": {},
   "source": [
    "Hints: \n",
    "- You can use numpy arrays to hold the results of many throws.\n",
    "- You can sum to numpy arrays by using the `+` operator like this: `sum = first_throw + second_throw`\n",
    "- To simulate multiple throws of a dice you can use list comprehension or a for loop"
   ]
  },
  {
   "cell_type": "code",
   "execution_count": 81,
   "id": "e9a8b2ed",
   "metadata": {},
   "outputs": [
    {
     "name": "stdout",
     "output_type": "stream",
     "text": [
      "Probability for sum 2: 0.0330\n",
      "Probability for sum 3: 0.0480\n",
      "Probability for sum 4: 0.0870\n",
      "Probability for sum 5: 0.1150\n",
      "Probability for sum 6: 0.1280\n",
      "Probability for sum 7: 0.1510\n",
      "Probability for sum 8: 0.1410\n",
      "Probability for sum 9: 0.1230\n",
      "Probability for sum 10: 0.0880\n",
      "Probability for sum 11: 0.0590\n",
      "Probability for sum 12: 0.0270\n"
     ]
    },
    {
     "data": {
      "image/png": "[encoded data removed]",
      "text/plain": [
       "<Figure size 640x480 with 1 Axes>"
      ]
     },
     "metadata": {},
     "output_type": "display_data"
    }
   ],
   "source": [
    "# You can use this cell for your calculations (not graded)\n",
    "np.random.seed(361)\n",
    "\n",
    "# Defining the sides of the dice\n",
    "dice = [1, 2, 3, 4, 5, 6]\n",
    "\n",
    "# Simulating rolling the dice 1000 times\n",
    "num_simulations = 1000\n",
    "sums = []\n",
    "\n",
    "# Rolling the dice twice and calculating the sum for each simulation\n",
    "for _ in range(num_simulations):\n",
    "    throw_1 = np.random.choice(dice)\n",
    "    throw_2 = np.random.choice(dice)\n",
    "    sum_throw = throw_1 + throw_2\n",
    "    sums.append(sum_throw)\n",
    "\n",
    "# Calculating the probability for each possible sum\n",
    "unique_sums, counts = np.unique(sums, return_counts=True)\n",
    "probabilities = counts / num_simulations\n",
    "\n",
    "# Displaying the probability for each possible sum\n",
    "for sum_value, probability in zip(unique_sums, probabilities):\n",
    "    print(f\"Probability for sum {sum_value}: {probability:.4f}\")\n",
    "    \n",
    "# Creating a histogram\n",
    "plt.hist(sums, bins=range(2,14), edgecolor='black', density=True)\n",
    "plt.xticks(range(2,14))\n",
    "plt.xlabel('Sum of dice')\n",
    "plt.ylabel('Probability')\n",
    "plt.title('Histogram of sum')\n",
    "plt.show()"
   ]
  },
  {
   "cell_type": "code",
   "execution_count": 7,
   "id": "d4d5dcf9",
   "metadata": {},
   "outputs": [
    {
     "data": {
      "application/vnd.jupyter.widget-view+json": {
       "model_id": "f54290f9b5bc4ce69576c7e24c4f788c",
       "version_major": 2,
       "version_minor": 0
      },
      "text/plain": [
       "ToggleButtons(description='Your answer:', options=('left', 'center', 'right'), value='left')"
      ]
     },
     "metadata": {},
     "output_type": "display_data"
    },
    {
     "data": {
      "application/vnd.jupyter.widget-view+json": {
       "model_id": "48452a094b2f48008625fec30c900deb",
       "version_major": 2,
       "version_minor": 0
      },
      "text/plain": [
       "Button(button_style='success', description='Save your answer!', style=ButtonStyle())"
      ]
     },
     "metadata": {},
     "output_type": "display_data"
    },
    {
     "data": {
      "application/vnd.jupyter.widget-view+json": {
       "model_id": "bb3e5bd68bfd47bda0666cb79b3c20af",
       "version_major": 2,
       "version_minor": 0
      },
      "text/plain": [
       "Output()"
      ]
     },
     "metadata": {},
     "output_type": "display_data"
    }
   ],
   "source": [
    "# Run this cell to submit your answer\n",
    "utils.exercise_2()"
   ]
  },
  {
   "cell_type": "markdown",
   "id": "adfb889c",
   "metadata": {},
   "source": [
    "## Exercise 3:\n",
    "\n",
    "Given a fair 4-sided dice, you throw it two times and record the sum. The figure on the left shows the probabilities of the dice landing on each side and the right figure the histogram of the sum. Fill out the probabilities of each sum (notice that the distribution of the sum is symetrical so you only need to input 4 values in total):\n",
    "\n",
    "<img src=\"./images/4_side_hists.png\" style=\"height: 300px;\"/>\n",
    "\n",
    "**Submission considerations:**\n",
    "- Submit your answers as floating point numbers with three digits after the decimal point\n",
    "- Example: To submit the value of 1/4 enter 0.250"
   ]
  },
  {
   "cell_type": "code",
   "execution_count": 80,
   "id": "342ca685",
   "metadata": {},
   "outputs": [
    {
     "name": "stdout",
     "output_type": "stream",
     "text": [
      "P for sum=2|8: 0.062\n",
      "P for sum=3|7: 0.125\n",
      "P for sum=4|6: 0.188\n",
      "P for sum=5: 0.250\n"
     ]
    }
   ],
   "source": [
    "# You can use this cell for your calculations (not graded)\n",
    "np.random.seed(361)\n",
    "\n",
    "# Defining the sides of the dice\n",
    "dice_sides = [1, 2, 3, 4]\n",
    "\n",
    "# Function to calculate sum probabilities\n",
    "def calculate_sum_probabilities(sides):\n",
    "    probabilities = [0] * (2 * len(sides))\n",
    "    for i in range(len(sides)):\n",
    "        for j in range(len(sides)):\n",
    "            sum_val = sides[i] + sides[j]\n",
    "            probabilities[sum_val - 2] += 1 / (len(sides) ** 2)\n",
    "    return probabilities\n",
    "\n",
    "# Calculating sum probabilities\n",
    "probabilities = calculate_sum_probabilities(dice_sides)\n",
    "\n",
    "# Displaying probabilities as requested\n",
    "print(f\"P for sum=2|8: {probabilities[0]:.3f}\")\n",
    "print(f\"P for sum=3|7: {probabilities[1]:.3f}\")\n",
    "print(f\"P for sum=4|6: {probabilities[2]:.3f}\")\n",
    "print(f\"P for sum=5: {probabilities[3]:.3f}\")"
   ]
  },
  {
   "cell_type": "code",
   "execution_count": 9,
   "id": "e0a24beb",
   "metadata": {},
   "outputs": [
    {
     "data": {
      "application/vnd.jupyter.widget-view+json": {
       "model_id": "9c9783cb2ec64f8b95e40dcf8ae8727e",
       "version_major": 2,
       "version_minor": 0
      },
      "text/plain": [
       "FloatText(value=0.0, description='P for sum=2|8', style=DescriptionStyle(description_width='initial'))"
      ]
     },
     "metadata": {},
     "output_type": "display_data"
    },
    {
     "data": {
      "application/vnd.jupyter.widget-view+json": {
       "model_id": "4d7c1308959746b9be5a996aa5ee9762",
       "version_major": 2,
       "version_minor": 0
      },
      "text/plain": [
       "FloatText(value=0.0, description='P for sum=3|7:', style=DescriptionStyle(description_width='initial'))"
      ]
     },
     "metadata": {},
     "output_type": "display_data"
    },
    {
     "data": {
      "application/vnd.jupyter.widget-view+json": {
       "model_id": "dac7be3363cf433893fa794609b2fc3d",
       "version_major": 2,
       "version_minor": 0
      },
      "text/plain": [
       "FloatText(value=0.0, description='P for sum=4|6:', style=DescriptionStyle(description_width='initial'))"
      ]
     },
     "metadata": {},
     "output_type": "display_data"
    },
    {
     "data": {
      "application/vnd.jupyter.widget-view+json": {
       "model_id": "1263cca5a8aa478bbad1839b1dacd376",
       "version_major": 2,
       "version_minor": 0
      },
      "text/plain": [
       "FloatText(value=0.0, description='P for sum=5:', style=DescriptionStyle(description_width='initial'))"
      ]
     },
     "metadata": {},
     "output_type": "display_data"
    },
    {
     "data": {
      "application/vnd.jupyter.widget-view+json": {
       "model_id": "913cc0e78f54437da93dd63c42a7ec09",
       "version_major": 2,
       "version_minor": 0
      },
      "text/plain": [
       "Button(button_style='success', description='Save your answer!', style=ButtonStyle())"
      ]
     },
     "metadata": {},
     "output_type": "display_data"
    },
    {
     "data": {
      "application/vnd.jupyter.widget-view+json": {
       "model_id": "c4d2cb5823ed41f1856c037039ab3c9b",
       "version_major": 2,
       "version_minor": 0
      },
      "text/plain": [
       "Output()"
      ]
     },
     "metadata": {},
     "output_type": "display_data"
    }
   ],
   "source": [
    "# Run this cell to submit your answer\n",
    "utils.exercise_3()"
   ]
  },
  {
   "cell_type": "markdown",
   "id": "108837bd",
   "metadata": {},
   "source": [
    "## Exercise 4:\n",
    "\n",
    "Using the same scenario as in the previous exercise. Compute the mean and variance of the sum of the two throws  and the covariance between the first and the second throw:\n",
    "\n",
    "<img src=\"./images/4_sided_hist_no_prob.png\" style=\"height: 300px;\"/>\n",
    "\n",
    "\n",
    "Hints:\n",
    "- You can use [np.cov](https://numpy.org/doc/stable/reference/generated/numpy.cov.html) to compute the covariance of two numpy arrays (this may not be needed for this particular exercise)."
   ]
  },
  {
   "cell_type": "code",
   "execution_count": 79,
   "id": "f4eadc3c",
   "metadata": {},
   "outputs": [
    {
     "name": "stdout",
     "output_type": "stream",
     "text": [
      "Mean: 4.979\n",
      "Variance: 2.495\n",
      "Covariance: -0.009\n"
     ]
    }
   ],
   "source": [
    "# You can use this cell for your calculations (not graded)\n",
    "np.random.seed(361)\n",
    "\n",
    "# Defining the sides of the dice\n",
    "dice_sides = [1, 2, 3, 4]\n",
    "\n",
    "# Simulating rolling the dice 10000 times\n",
    "num_simulations = 10000\n",
    "throws_1 = np.random.choice(dice_sides, size=num_simulations)\n",
    "throws_2 = np.random.choice(dice_sides, size=num_simulations)\n",
    "\n",
    "# Calculating the sum of two throws\n",
    "sums = throws_1 + throws_2\n",
    "\n",
    "# Calculating the mean\n",
    "mean = np.mean(sums)\n",
    "\n",
    "# Calculating the variance\n",
    "variance = np.var(sums)\n",
    "\n",
    "# Calculating the covariance\n",
    "covariance = np.cov(throws_1, throws_2)[0, 1]\n",
    "\n",
    "print(f\"Mean: {mean:.3f}\")\n",
    "print(f\"Variance: {variance:.3f}\")\n",
    "print(f\"Covariance: {covariance:.3f}\")"
   ]
  },
  {
   "cell_type": "code",
   "execution_count": 11,
   "id": "4e662b9b",
   "metadata": {},
   "outputs": [
    {
     "data": {
      "application/vnd.jupyter.widget-view+json": {
       "model_id": "7d0d40d07604423fb32ead44826b1eed",
       "version_major": 2,
       "version_minor": 0
      },
      "text/plain": [
       "FloatText(value=0.0, description='Mean:')"
      ]
     },
     "metadata": {},
     "output_type": "display_data"
    },
    {
     "data": {
      "application/vnd.jupyter.widget-view+json": {
       "model_id": "b5b7a414fd9e44d1ad7abb287a465c26",
       "version_major": 2,
       "version_minor": 0
      },
      "text/plain": [
       "FloatText(value=0.0, description='Variance:')"
      ]
     },
     "metadata": {},
     "output_type": "display_data"
    },
    {
     "data": {
      "application/vnd.jupyter.widget-view+json": {
       "model_id": "36a154266965443293d489e31eededb1",
       "version_major": 2,
       "version_minor": 0
      },
      "text/plain": [
       "FloatText(value=0.0, description='Covariance:')"
      ]
     },
     "metadata": {},
     "output_type": "display_data"
    },
    {
     "data": {
      "application/vnd.jupyter.widget-view+json": {
       "model_id": "f6f6bd136a4548d0b50e42fd7edb99a5",
       "version_major": 2,
       "version_minor": 0
      },
      "text/plain": [
       "Button(button_style='success', description='Save your answer!', style=ButtonStyle())"
      ]
     },
     "metadata": {},
     "output_type": "display_data"
    },
    {
     "data": {
      "application/vnd.jupyter.widget-view+json": {
       "model_id": "a324595ac6ad414a82254404f01717ce",
       "version_major": 2,
       "version_minor": 0
      },
      "text/plain": [
       "Output()"
      ]
     },
     "metadata": {},
     "output_type": "display_data"
    }
   ],
   "source": [
    "# Run this cell to submit your answer\n",
    "utils.exercise_4()"
   ]
  },
  {
   "cell_type": "markdown",
   "id": "714e099b",
   "metadata": {},
   "source": [
    "## Exercise 5:\n",
    "\n",
    "\n",
    "Now suppose you are have a loaded 4-sided dice (it is loaded so that it lands twice as often on side 2 compared to the other sides): \n",
    "\n",
    "\n",
    "<img src=\"./images/4_side_uf.png\" style=\"height: 300px;\"/>\n",
    "\n",
    "You are throwing it two times and recording the sum of each throw. Which of the following `probability mass functions` will be the one you should get?\n",
    "\n",
    "<table><tr>\n",
    "<td> <img src=\"./images/hist_sum_4_4l.png\" style=\"height: 300px;\"/> </td>\n",
    "<td> <img src=\"./images/hist_sum_4_3l.png\" style=\"height: 300px;\"/> </td>\n",
    "<td> <img src=\"./images/hist_sum_4_uf.png\" style=\"height: 300px;\"/> </td>\n",
    "</tr></table>"
   ]
  },
  {
   "cell_type": "markdown",
   "id": "ecb27c1b",
   "metadata": {},
   "source": [
    "Hints: \n",
    "- You can use the `p` parameter of [np.random.choice](https://numpy.org/doc/stable/reference/random/generated/numpy.random.choice.html) to simulate a loaded dice."
   ]
  },
  {
   "cell_type": "code",
   "execution_count": null,
   "id": "e88acd18",
   "metadata": {
    "scrolled": true
   },
   "outputs": [],
   "source": []
  },
  {
   "cell_type": "code",
   "execution_count": 78,
   "id": "a35573ec",
   "metadata": {},
   "outputs": [
    {
     "name": "stdout",
     "output_type": "stream",
     "text": [
      "Probability for sum 2: 0.0371\n",
      "Probability for sum 3: 0.1647\n",
      "Probability for sum 4: 0.2417\n",
      "Probability for sum 5: 0.2420\n",
      "Probability for sum 6: 0.1972\n",
      "Probability for sum 7: 0.0806\n",
      "Probability for sum 8: 0.0367\n"
     ]
    },
    {
     "data": {
      "image/png": "[encoded data removed]",
      "text/plain": [
       "<Figure size 640x480 with 1 Axes>"
      ]
     },
     "metadata": {},
     "output_type": "display_data"
    }
   ],
   "source": [
    "# You can use this cell for your calculations (not graded)\n",
    "np.random.seed(361)\n",
    "\n",
    "## Defining the sides of the dice\n",
    "dice_sides = [1, 2, 3, 4]\n",
    "\n",
    "# Probabilities for each side of the dice\n",
    "# The dice is loaded such that side 2 has twice the probability\n",
    "dice_probabilities = [0.2, 0.4,  0.2, 0.2]  # Correction here\n",
    "\n",
    "# Simulating rolling the dice 10000 times\n",
    "num_simulations = 10000\n",
    "throws_1 = np.random.choice(dice_sides, size=num_simulations, p=dice_probabilities)\n",
    "throws_2 = np.random.choice(dice_sides, size=num_simulations, p=dice_probabilities)\n",
    "\n",
    "# Calculating the sum of two throws\n",
    "sums = throws_1 + throws_2\n",
    "\n",
    "# Calculating the probability for each possible sum\n",
    "unique_sums, counts = np.unique(sums, return_counts=True)\n",
    "probabilities = counts / num_simulations\n",
    "\n",
    "# Displaying the probability for each possible sum\n",
    "for sum_value, probability in zip(unique_sums, probabilities):\n",
    "    print(f\"Probability for sum {sum_value}: {probability:.4f}\")\n",
    "    \n",
    "# Creating a histogram\n",
    "plt.hist(sums, bins=range(2,10), edgecolor='black', density=True)\n",
    "plt.xticks(range(2,10))\n",
    "plt.xlabel('Sum of dice')\n",
    "plt.ylabel('Probability')\n",
    "plt.title('Histogram of sum')\n",
    "plt.show()"
   ]
  },
  {
   "cell_type": "code",
   "execution_count": 13,
   "id": "3104e647",
   "metadata": {},
   "outputs": [
    {
     "data": {
      "application/vnd.jupyter.widget-view+json": {
       "model_id": "eeecca46e006405ab878b356f7290ced",
       "version_major": 2,
       "version_minor": 0
      },
      "text/plain": [
       "ToggleButtons(description='Your answer:', options=('left', 'center', 'right'), value='left')"
      ]
     },
     "metadata": {},
     "output_type": "display_data"
    },
    {
     "data": {
      "application/vnd.jupyter.widget-view+json": {
       "model_id": "589d20e3d4b149cd85fa558053f34d4c",
       "version_major": 2,
       "version_minor": 0
      },
      "text/plain": [
       "Button(button_style='success', description='Save your answer!', style=ButtonStyle())"
      ]
     },
     "metadata": {},
     "output_type": "display_data"
    },
    {
     "data": {
      "application/vnd.jupyter.widget-view+json": {
       "model_id": "16604560d5b34b9dbc1e8a2f7b6acdec",
       "version_major": 2,
       "version_minor": 0
      },
      "text/plain": [
       "Output()"
      ]
     },
     "metadata": {},
     "output_type": "display_data"
    }
   ],
   "source": [
    "# Run this cell to submit your answer\n",
    "utils.exercise_5()"
   ]
  },
  {
   "cell_type": "markdown",
   "id": "0d0f3429",
   "metadata": {},
   "source": [
    "## Exercise 6:\n",
    "\n",
    "You have a 6-sided dice that is loaded so that it lands twice as often on side 3 compared to the other sides:\n",
    "\n",
    "<img src=\"./images/loaded_6_side.png\" style=\"height: 300px;\"/>\n",
    "\n",
    "You record the sum of throwing it twice. What is the highest value (of the sum) that will yield a cumulative probability lower or equal to 0.5?\n",
    "\n",
    "<img src=\"./images/loaded_6_cdf.png\" style=\"height: 300px;\"/>\n",
    "\n",
    "Hints:\n",
    "- The probability of side 3 is equal to $\\frac{2}{7}$"
   ]
  },
  {
   "cell_type": "code",
   "execution_count": 77,
   "id": "10feaaa8",
   "metadata": {},
   "outputs": [
    {
     "name": "stdout",
     "output_type": "stream",
     "text": [
      "The highest sum value with cumulative probability <= 0.5 is: 6\n"
     ]
    }
   ],
   "source": [
    "# You can use this cell for your calculations (not graded)\n",
    "np.random.seed(361)\n",
    "\n",
    "# Defining the sides of the dice\n",
    "dice_sides = [1, 2, 3, 4, 5, 6]\n",
    "\n",
    "# Probabilities for each side of the dice\n",
    "# The dice is loaded such that side 3 has twice the probability\n",
    "dice_probabilities = [1/7, 1/7, 2/7, 1/7, 1/7, 1/7]\n",
    "\n",
    "# Function to calculate sum probabilities\n",
    "def calculate_sum_probabilities(sides, probabilities):\n",
    "    sum_probabilities = [0] * (2 * len(sides))\n",
    "    for i in range(len(sides)):\n",
    "        for j in range(len(sides)):\n",
    "            sum_val = sides[i] + sides[j]\n",
    "            sum_probabilities[sum_val - 2] += probabilities[i] * probabilities[j]\n",
    "    return sum_probabilities\n",
    "\n",
    "# Calculating sum probabilities\n",
    "sum_probabilities = calculate_sum_probabilities(dice_sides, dice_probabilities)\n",
    "\n",
    "# Calculating cumulative probabilities\n",
    "cumulative_probabilities = np.cumsum(sum_probabilities)\n",
    "\n",
    "# Finding the highest sum value with cumulative probability <= 0.5\n",
    "highest_sum = 2\n",
    "for i, prob in enumerate(cumulative_probabilities, start=2):\n",
    "    if prob > 0.5:\n",
    "        break\n",
    "    highest_sum = i\n",
    "\n",
    "print(f\"The highest sum value with cumulative probability <= 0.5 is: {highest_sum}\")"
   ]
  },
  {
   "cell_type": "code",
   "execution_count": 14,
   "id": "963e5763",
   "metadata": {},
   "outputs": [
    {
     "data": {
      "application/vnd.jupyter.widget-view+json": {
       "model_id": "df4b6af0a4b848bcb065fdf2fa3c5602",
       "version_major": 2,
       "version_minor": 0
      },
      "text/plain": [
       "IntSlider(value=2, continuous_update=False, description='Sum:', max=12, min=2)"
      ]
     },
     "metadata": {},
     "output_type": "display_data"
    },
    {
     "data": {
      "application/vnd.jupyter.widget-view+json": {
       "model_id": "0d49a30f4d0c4ab985c99814a0f12ef6",
       "version_major": 2,
       "version_minor": 0
      },
      "text/plain": [
       "Button(button_style='success', description='Save your answer!', style=ButtonStyle())"
      ]
     },
     "metadata": {},
     "output_type": "display_data"
    },
    {
     "data": {
      "application/vnd.jupyter.widget-view+json": {
       "model_id": "a637cc47be324e888dbc1d3c73af956b",
       "version_major": 2,
       "version_minor": 0
      },
      "text/plain": [
       "Output()"
      ]
     },
     "metadata": {},
     "output_type": "display_data"
    }
   ],
   "source": [
    "# Run this cell to submit your answer\n",
    "utils.exercise_6()"
   ]
  },
  {
   "cell_type": "markdown",
   "id": "f6684426",
   "metadata": {},
   "source": [
    "## Exercise 7:\n",
    "\n",
    "Given a 6-sided fair dice you try a new game. You only throw the dice a second time if the result of the first throw is **lower** or equal to 3. Which of the following `probability mass functions` will be the one you should get given this new constraint?\n",
    "\n",
    "<table><tr>\n",
    "<td> <img src=\"./images/6_sided_cond_green.png\" style=\"height: 250px;\"/> </td>\n",
    "<td> <img src=\"./images/6_sided_cond_blue.png\" style=\"height: 250px;\"/> </td>\n",
    "<td> <img src=\"./images/6_sided_cond_red.png\" style=\"height: 250px;\"/> </td>\n",
    "<td> <img src=\"./images/6_sided_cond_brown.png\" style=\"height: 250px;\"/> </td>\n",
    "\n",
    "</tr></table>\n",
    "\n",
    "Hints:\n",
    "- You can simulate the second throws as a numpy array and then make the values that met a certain criteria equal to 0 by using [np.where](https://numpy.org/doc/stable/reference/generated/numpy.where.html)"
   ]
  },
  {
   "cell_type": "code",
   "execution_count": 76,
   "id": "9e64d178",
   "metadata": {},
   "outputs": [
    {
     "name": "stdout",
     "output_type": "stream",
     "text": [
      "Probability for sum 2: 0.0277\n",
      "Probability for sum 3: 0.0587\n",
      "Probability for sum 4: 0.2486\n",
      "Probability for sum 5: 0.2498\n",
      "Probability for sum 6: 0.2438\n",
      "Probability for sum 7: 0.0855\n",
      "Probability for sum 8: 0.0555\n",
      "Probability for sum 9: 0.0304\n"
     ]
    },
    {
     "data": {
      "image/png": "[encoded data removed]",
      "text/plain": [
       "<Figure size 640x480 with 1 Axes>"
      ]
     },
     "metadata": {},
     "output_type": "display_data"
    }
   ],
   "source": [
    "# You can use this cell for your calculations (not graded)\n",
    "np.random.seed(361)\n",
    "\n",
    "# Defining the sides of the dice\n",
    "dice_sides = [1, 2, 3, 4, 5, 6]\n",
    "\n",
    "# Simulating rolling the dice 10000 times\n",
    "num_simulations = 10000\n",
    "throws_1 = np.random.choice(dice_sides, size=num_simulations)\n",
    "\n",
    "# Determining which throws require a second throw\n",
    "second_throw_needed = throws_1 <= 3\n",
    "\n",
    "# Performing the second throw\n",
    "throws_2 = np.random.choice(dice_sides, size=num_simulations)\n",
    "\n",
    "# Setting the value of the second throw to 0 if no second throw is needed\n",
    "throws_2 = np.where(second_throw_needed, throws_2, 0)\n",
    "\n",
    "# Calculating the sum of two throws\n",
    "sums = throws_1 + throws_2\n",
    "\n",
    "# Calculating the probability for each possible sum\n",
    "unique_sums, counts = np.unique(sums, return_counts=True)\n",
    "probabilities = counts / num_simulations\n",
    "\n",
    "# Displaying the probability for each possible sum\n",
    "for sum_value, probability in zip(unique_sums, probabilities):\n",
    "    print(f\"Probability for sum {sum_value}: {probability:.4f}\")\n",
    "    \n",
    "# Creating a histogram\n",
    "plt.hist(sums, bins=range(2,11), edgecolor='black', density=True)\n",
    "plt.xticks(range(2,11))\n",
    "plt.xlabel('Sum of dice')\n",
    "plt.ylabel('Probability')\n",
    "plt.title('Histogram of sum')\n",
    "plt.show()"
   ]
  },
  {
   "cell_type": "code",
   "execution_count": 18,
   "id": "82a4db40",
   "metadata": {},
   "outputs": [
    {
     "data": {
      "application/vnd.jupyter.widget-view+json": {
       "model_id": "ffb9d1117602439f9d7e2d8dae98961c",
       "version_major": 2,
       "version_minor": 0
      },
      "text/plain": [
       "ToggleButtons(description='Your answer:', options=('left-most', 'left-center', 'right-center', 'right-most'), …"
      ]
     },
     "metadata": {},
     "output_type": "display_data"
    },
    {
     "data": {
      "application/vnd.jupyter.widget-view+json": {
       "model_id": "6f7655c722f142d49e4fba03910b93dd",
       "version_major": 2,
       "version_minor": 0
      },
      "text/plain": [
       "Button(button_style='success', description='Save your answer!', style=ButtonStyle())"
      ]
     },
     "metadata": {},
     "output_type": "display_data"
    },
    {
     "data": {
      "application/vnd.jupyter.widget-view+json": {
       "model_id": "53288a344ea543ecb10090daee09a5fa",
       "version_major": 2,
       "version_minor": 0
      },
      "text/plain": [
       "Output()"
      ]
     },
     "metadata": {},
     "output_type": "display_data"
    }
   ],
   "source": [
    "# Run this cell to submit your answer\n",
    "utils.exercise_7()"
   ]
  },
  {
   "cell_type": "markdown",
   "id": "ba973eaf",
   "metadata": {},
   "source": [
    "## Exercise 8:\n",
    "\n",
    "Given the same scenario as in the previous exercise but with the twist that you only throw the dice a second time if the result of the first throw is **greater** or equal to 3. Which of the following `probability mass functions` will be the one you should get given this new constraint?\n",
    "\n",
    "<table><tr>\n",
    "<td> <img src=\"./images/6_sided_cond_green2.png\" style=\"height: 250px;\"/> </td>\n",
    "<td> <img src=\"./images/6_sided_cond_blue2.png\" style=\"height: 250px;\"/> </td>\n",
    "<td> <img src=\"./images/6_sided_cond_red2.png\" style=\"height: 250px;\"/> </td>\n",
    "<td> <img src=\"./images/6_sided_cond_brown2.png\" style=\"height: 250px;\"/> </td>\n",
    "\n",
    "</tr></table>\n"
   ]
  },
  {
   "cell_type": "code",
   "execution_count": 75,
   "id": "4d25300f",
   "metadata": {},
   "outputs": [
    {
     "name": "stdout",
     "output_type": "stream",
     "text": [
      "Probability for sum 1: 0.1665\n",
      "Probability for sum 2: 0.1628\n",
      "Probability for sum 4: 0.0270\n",
      "Probability for sum 5: 0.0544\n",
      "Probability for sum 6: 0.0847\n",
      "Probability for sum 7: 0.1140\n",
      "Probability for sum 8: 0.1095\n",
      "Probability for sum 9: 0.1153\n",
      "Probability for sum 10: 0.0807\n",
      "Probability for sum 11: 0.0578\n",
      "Probability for sum 12: 0.0273\n"
     ]
    },
    {
     "data": {
      "image/png": "[encoded data removed]",
      "text/plain": [
       "<Figure size 640x480 with 1 Axes>"
      ]
     },
     "metadata": {},
     "output_type": "display_data"
    }
   ],
   "source": [
    "# You can use this cell for your calculations (not graded)\n",
    "np.random.seed(361)\n",
    "\n",
    "# Defining the sides of the dice\n",
    "dice_sides = [1, 2, 3, 4, 5, 6]\n",
    "\n",
    "# Simulating rolling the dice 10000 times\n",
    "num_simulations = 10000\n",
    "throws_1 = np.random.choice(dice_sides, size=num_simulations)\n",
    "\n",
    "# Determining which throws require a second throw\n",
    "second_throw_needed = throws_1 >= 3\n",
    "\n",
    "# Performing the second throw\n",
    "throws_2 = np.random.choice(dice_sides, size=num_simulations)\n",
    "\n",
    "# Setting the value of the second throw to 0 if no second throw is needed\n",
    "throws_2 = np.where(second_throw_needed, throws_2, 0)\n",
    "\n",
    "# Calculating the sum of two throws\n",
    "sums = throws_1 + throws_2\n",
    "\n",
    "# Calculating the probability for each possible sum\n",
    "unique_sums, counts = np.unique(sums, return_counts=True)\n",
    "probabilities = counts / num_simulations\n",
    "\n",
    "# Displaying the probability for each possible sum\n",
    "for sum_value, probability in zip(unique_sums, probabilities):\n",
    "    print(f\"Probability for sum {sum_value}: {probability:.4f}\")\n",
    "    \n",
    "# Creating a histogram\n",
    "plt.hist(sums, bins=range(1,14), edgecolor='black', density=True)\n",
    "plt.xticks(range(1,14))\n",
    "plt.xlabel('Sum of Dice')\n",
    "plt.ylabel('Probability')\n",
    "plt.title('Histogram of Sum')\n",
    "plt.show()"
   ]
  },
  {
   "cell_type": "code",
   "execution_count": 21,
   "id": "33bb9fd2",
   "metadata": {},
   "outputs": [
    {
     "data": {
      "application/vnd.jupyter.widget-view+json": {
       "model_id": "c5e9a0192cc24a3190a6df5e7b7d35ab",
       "version_major": 2,
       "version_minor": 0
      },
      "text/plain": [
       "ToggleButtons(description='Your answer:', options=('left-most', 'left-center', 'right-center', 'right-most'), …"
      ]
     },
     "metadata": {},
     "output_type": "display_data"
    },
    {
     "data": {
      "application/vnd.jupyter.widget-view+json": {
       "model_id": "99c79264f1c3488d824289f7bb8b4b87",
       "version_major": 2,
       "version_minor": 0
      },
      "text/plain": [
       "Button(button_style='success', description='Save your answer!', style=ButtonStyle())"
      ]
     },
     "metadata": {},
     "output_type": "display_data"
    },
    {
     "data": {
      "application/vnd.jupyter.widget-view+json": {
       "model_id": "88bfb7df6020401095da3f5a190668e5",
       "version_major": 2,
       "version_minor": 0
      },
      "text/plain": [
       "Output()"
      ]
     },
     "metadata": {},
     "output_type": "display_data"
    }
   ],
   "source": [
    "# Run this cell to submit your answer\n",
    "utils.exercise_8()"
   ]
  },
  {
   "cell_type": "markdown",
   "id": "017e9b22",
   "metadata": {},
   "source": [
    "## Exercise 9:\n",
    "\n",
    "Given a n-sided fair dice. You throw it twice and record the sum. How does increasing the number of sides `n` of the dice impact the mean and variance of the sum and the covariance of the joint distribution?"
   ]
  },
  {
   "cell_type": "code",
   "execution_count": 74,
   "id": "645a9b74",
   "metadata": {},
   "outputs": [
    {
     "name": "stdout",
     "output_type": "stream",
     "text": [
      "Mean:\n",
      "For 4 sides of the dice, mean: 4.98\n",
      "For 6 sides of the dice, mean: 7.00\n",
      "For 8 sides of the dice, mean: 9.01\n",
      "For 10 sides of the dice, mean: 11.01\n",
      "For 12 sides of the dice, mean: 13.07\n",
      "For 20 sides of the dice, mean: 20.94\n",
      "\n",
      "Variance:\n",
      "For 4 sides of the dice, variance: 2.49\n",
      "For 6 sides of the dice, variance: 5.84\n",
      "For 8 sides of the dice, variance: 10.64\n",
      "For 10 sides of the dice, variance: 16.28\n",
      "For 12 sides of the dice, variance: 23.92\n",
      "For 20 sides of the dice, variance: 67.54\n",
      "\n",
      "Covariance:\n",
      "For 4 sides of the dice, covariance: -0.01\n",
      "For 6 sides of the dice, covariance: -0.02\n",
      "For 8 sides of the dice, covariance: 0.09\n",
      "For 10 sides of the dice, covariance: -0.12\n",
      "For 12 sides of the dice, covariance: 0.19\n",
      "For 20 sides of the dice, covariance: 0.52\n"
     ]
    }
   ],
   "source": [
    "# You can use this cell for your calculations (not graded)\n",
    "np.random.seed(361)\n",
    "\n",
    "# Function to calculate mean, variance, and covariance of the sum of two dice throws\n",
    "def calculate_stats(n_sides):\n",
    "    # Define the sides of the dice\n",
    "    dice_sides = list(range(1, n_sides + 1))\n",
    "\n",
    "    # Simulating rolling the dice 10000 times\n",
    "    num_simulations = 10000\n",
    "    throws_1 = np.random.choice(dice_sides, size=num_simulations)\n",
    "    throws_2 = np.random.choice(dice_sides, size=num_simulations)\n",
    "\n",
    "    # Calculating the sum of two throws\n",
    "    sums = throws_1 + throws_2\n",
    "\n",
    "    # Calculating mean\n",
    "    mean = np.mean(sums)\n",
    "\n",
    "    # Calculating variance\n",
    "    variance = np.var(sums)\n",
    "\n",
    "    # Calculating covariance\n",
    "    covariance = np.cov(throws_1, throws_2)[0, 1]\n",
    "\n",
    "    return mean, variance, covariance\n",
    "\n",
    "# Simulation for various number of dice sides\n",
    "n_sides_values = [4, 6, 8, 10, 12, 20]\n",
    "means = []\n",
    "variances = []\n",
    "covariances = []\n",
    "\n",
    "for n_sides in n_sides_values:\n",
    "    mean, variance, covariance = calculate_stats(n_sides)\n",
    "    means.append(mean)\n",
    "    variances.append(variance)\n",
    "    covariances.append(covariance)\n",
    "\n",
    "# Displaying the results\n",
    "print(\"Mean:\")\n",
    "for n_sides, mean in zip(n_sides_values, means):\n",
    "    print(f\"For {n_sides} sides of the dice, mean: {mean:.2f}\")\n",
    "\n",
    "print(\"\\nVariance:\")\n",
    "for n_sides, variance in zip(n_sides_values, variances):\n",
    "    print(f\"For {n_sides} sides of the dice, variance: {variance:.2f}\")\n",
    "\n",
    "print(\"\\nCovariance:\")\n",
    "for n_sides, covariance in zip(n_sides_values, covariances):\n",
    "    print(f\"For {n_sides} sides of the dice, covariance: {covariance:.2f}\")"
   ]
  },
  {
   "cell_type": "code",
   "execution_count": 23,
   "id": "907412da",
   "metadata": {},
   "outputs": [
    {
     "name": "stdout",
     "output_type": "stream",
     "text": [
      "As the number of sides in the die increases:\n"
     ]
    },
    {
     "data": {
      "application/vnd.jupyter.widget-view+json": {
       "model_id": "228bbff1f32045e8bd5822cbeedf6e64",
       "version_major": 2,
       "version_minor": 0
      },
      "text/plain": [
       "ToggleButtons(description='The mean of the sum:', options=('stays the same', 'increases', 'decreases'), value=…"
      ]
     },
     "metadata": {},
     "output_type": "display_data"
    },
    {
     "data": {
      "application/vnd.jupyter.widget-view+json": {
       "model_id": "39b5f0c512d4488aac349d5980507954",
       "version_major": 2,
       "version_minor": 0
      },
      "text/plain": [
       "ToggleButtons(description='The variance of the sum:', options=('stays the same', 'increases', 'decreases'), va…"
      ]
     },
     "metadata": {},
     "output_type": "display_data"
    },
    {
     "data": {
      "application/vnd.jupyter.widget-view+json": {
       "model_id": "bcc8cb1a28cf4febb7a075963588b7fc",
       "version_major": 2,
       "version_minor": 0
      },
      "text/plain": [
       "ToggleButtons(description='The covariance of the joint distribution:', options=('stays the same', 'increases',…"
      ]
     },
     "metadata": {},
     "output_type": "display_data"
    },
    {
     "data": {
      "application/vnd.jupyter.widget-view+json": {
       "model_id": "131c110341694cbfaebd9f860b6aa8d2",
       "version_major": 2,
       "version_minor": 0
      },
      "text/plain": [
       "Button(button_style='success', description='Save your answer!', style=ButtonStyle())"
      ]
     },
     "metadata": {},
     "output_type": "display_data"
    },
    {
     "data": {
      "application/vnd.jupyter.widget-view+json": {
       "model_id": "c0f3bcfd63ff4ee38daf77ff7d757841",
       "version_major": 2,
       "version_minor": 0
      },
      "text/plain": [
       "Output()"
      ]
     },
     "metadata": {},
     "output_type": "display_data"
    }
   ],
   "source": [
    "# Run this cell to submit your answer\n",
    "utils.exercise_9()"
   ]
  },
  {
   "cell_type": "markdown",
   "id": "fcf9b3ac",
   "metadata": {},
   "source": [
    "## Exercise 10:\n",
    "\n",
    "Given a 6-sided loaded dice. You throw it twice and record the sum. Which of the following statemets is true?"
   ]
  },
  {
   "cell_type": "code",
   "execution_count": 73,
   "id": "008c5858",
   "metadata": {},
   "outputs": [
    {
     "name": "stdout",
     "output_type": "stream",
     "text": [
      "Mean:\n",
      "For loaded side 1, mean: 6.25\n",
      "For loaded side 2, mean: 6.57\n",
      "For loaded side 3, mean: 6.82\n",
      "For loaded side 4, mean: 7.15\n",
      "For loaded side 5, mean: 7.43\n",
      "For loaded side 6, mean: 7.72\n",
      "\n",
      "Variance:\n",
      "For loaded side 1, variance: 6.44\n",
      "For loaded side 2, variance: 5.57\n",
      "For loaded side 3, variance: 5.11\n",
      "For loaded side 4, variance: 5.02\n",
      "For loaded side 5, variance: 5.51\n",
      "For loaded side 6, variance: 6.56\n",
      "\n",
      "Covariance:\n",
      "For loaded side 1, covariance: -0.01\n",
      "For loaded side 2, covariance: -0.00\n",
      "For loaded side 3, covariance: 0.01\n",
      "For loaded side 4, covariance: -0.04\n",
      "For loaded side 5, covariance: -0.03\n",
      "For loaded side 6, covariance: 0.03\n"
     ]
    }
   ],
   "source": [
    "# You can use this cell for your calculations (not graded)\n",
    "np.random.seed(361)\n",
    "\n",
    "# Defining the sides of the dice\n",
    "dice_sides = [1, 2, 3, 4, 5, 6]\n",
    "\n",
    "# Function to calculate mean, variance, and covariance of the sum of two dice throws\n",
    "def calculate_stats(loaded_side):\n",
    "    # Probabilities for each side of the dice\n",
    "    # Loaded side has twice the probability\n",
    "    dice_probabilities = [1/7, 1/7, 1/7, 1/7, 1/7, 1/7]\n",
    "    dice_probabilities[loaded_side - 1] = 2/7\n",
    "\n",
    "    # Simulating rolling the dice 10000 times\n",
    "    num_simulations = 10000\n",
    "    throws_1 = np.random.choice(dice_sides, size=num_simulations, p=dice_probabilities)\n",
    "    throws_2 = np.random.choice(dice_sides, size=num_simulations, p=dice_probabilities)\n",
    "\n",
    "    # Calculating the sum of two throws\n",
    "    sums = throws_1 + throws_2\n",
    "\n",
    "    # Calculating mean\n",
    "    mean = np.mean(sums)\n",
    "\n",
    "    # Calculating variance\n",
    "    variance = np.var(sums)\n",
    "\n",
    "    # Calculating covariance\n",
    "    covariance = np.cov(throws_1, throws_2)[0, 1]\n",
    "\n",
    "    return mean, variance, covariance\n",
    "\n",
    "# Simulation for various loaded sides\n",
    "loaded_sides = [1, 2, 3, 4, 5, 6]\n",
    "means = []\n",
    "variances = []\n",
    "covariances = []\n",
    "\n",
    "for loaded_side in loaded_sides:\n",
    "    mean, variance, covariance = calculate_stats(loaded_side)\n",
    "    means.append(mean)\n",
    "    variances.append(variance)\n",
    "    covariances.append(covariance)\n",
    "\n",
    "# Displaying the results\n",
    "print(\"Mean:\")\n",
    "for loaded_side, mean in zip(loaded_sides, means):\n",
    "    print(f\"For loaded side {loaded_side}, mean: {mean:.2f}\")\n",
    "\n",
    "print(\"\\nVariance:\")\n",
    "for loaded_side, variance in zip(loaded_sides, variances):\n",
    "    print(f\"For loaded side {loaded_side}, variance: {variance:.2f}\")\n",
    "\n",
    "print(\"\\nCovariance:\")\n",
    "for loaded_side, covariance in zip(loaded_sides, covariances):\n",
    "    print(f\"For loaded side {loaded_side}, covariance: {covariance:.2f}\")"
   ]
  },
  {
   "cell_type": "code",
   "execution_count": 25,
   "id": "99373567",
   "metadata": {},
   "outputs": [
    {
     "data": {
      "application/vnd.jupyter.widget-view+json": {
       "model_id": "50066c7db1614313b3a3fef3e0046205",
       "version_major": 2,
       "version_minor": 0
      },
      "text/plain": [
       "RadioButtons(layout=Layout(width='max-content'), options=('the mean and variance is the same regardless of whi…"
      ]
     },
     "metadata": {},
     "output_type": "display_data"
    },
    {
     "data": {
      "application/vnd.jupyter.widget-view+json": {
       "model_id": "58a7d73d200f4ad69c5a5fa740ae7523",
       "version_major": 2,
       "version_minor": 0
      },
      "text/plain": [
       "Button(button_style='success', description='Save your answer!', style=ButtonStyle())"
      ]
     },
     "metadata": {},
     "output_type": "display_data"
    },
    {
     "data": {
      "application/vnd.jupyter.widget-view+json": {
       "model_id": "55cb944167df41d7937cadaba1a7c43b",
       "version_major": 2,
       "version_minor": 0
      },
      "text/plain": [
       "Output()"
      ]
     },
     "metadata": {},
     "output_type": "display_data"
    }
   ],
   "source": [
    "# Run this cell to submit your answer\n",
    "utils.exercise_10()"
   ]
  },
  {
   "cell_type": "markdown",
   "id": "f8a1a8a3",
   "metadata": {},
   "source": [
    "## Exercise 11:\n",
    "\n",
    "Given a n-sided dice (could be fair or not). You throw it twice and record the sum (there is no dependance between the throws). If you are only given the histogram of the sums can you use it to know which are the probabilities of the dice landing on each side?\n",
    "\n",
    "In other words, if you are provided with only the histogram of the sums like this one:\n",
    "<td> <img src=\"./images/hist_sum_6_side.png\" style=\"height: 300px;\"/> </td>\n",
    "\n",
    "Could you use it to know the probabilities of the dice landing on each side? Which will be equivalent to finding this histogram:\n",
    "<img src=\"./images/fair_dice.png\" style=\"height: 300px;\"/>\n"
   ]
  },
  {
   "cell_type": "code",
   "execution_count": 72,
   "id": "b42149cf",
   "metadata": {},
   "outputs": [
    {
     "name": "stdout",
     "output_type": "stream",
     "text": [
      "Probability for sum 2: 0.0265\n",
      "Probability for sum 3: 0.0556\n",
      "Probability for sum 4: 0.0878\n",
      "Probability for sum 5: 0.1127\n",
      "Probability for sum 6: 0.1382\n",
      "Probability for sum 7: 0.1716\n",
      "Probability for sum 8: 0.1362\n",
      "Probability for sum 9: 0.1103\n",
      "Probability for sum 10: 0.0794\n",
      "Probability for sum 11: 0.0559\n",
      "Probability for sum 12: 0.0258\n"
     ]
    },
    {
     "data": {
      "image/png": "[encoded data removed]",
      "text/plain": [
       "<Figure size 640x480 with 1 Axes>"
      ]
     },
     "metadata": {},
     "output_type": "display_data"
    },
    {
     "name": "stdout",
     "output_type": "stream",
     "text": [
      "\n",
      "Probability for each dice side:\n",
      "Side 1: 0.1704\n",
      "Side 2: 0.1628\n",
      "Side 3: 0.1740\n",
      "Side 4: 0.1659\n",
      "Side 5: 0.1675\n",
      "Side 6: 0.1594\n"
     ]
    },
    {
     "data": {
      "image/png": "[encoded data removed]",
      "text/plain": [
       "<Figure size 640x480 with 1 Axes>"
      ]
     },
     "metadata": {},
     "output_type": "display_data"
    }
   ],
   "source": [
    "# You can use this cell for your calculations (not graded)\n",
    "np.random.seed(361)\n",
    "\n",
    "# Defining the sides of the dice\n",
    "dice_sides = [1, 2, 3, 4, 5, 6]\n",
    "\n",
    "# Simulating rolling the dice 10000 times\n",
    "num_simulations = 10000\n",
    "throws_1 = np.random.choice(dice_sides, size=num_simulations, p=[1/6, 1/6, 1/6, 1/6, 1/6, 1/6])\n",
    "throws_2 = np.random.choice(dice_sides, size=num_simulations, p=[1/6, 1/6, 1/6, 1/6, 1/6, 1/6])\n",
    "\n",
    "# Calculating the sum of two throws\n",
    "sums = throws_1 + throws_2\n",
    "\n",
    "# Calculating the probability for each possible sum\n",
    "unique_sums, counts = np.unique(sums, return_counts=True)\n",
    "sum_probabilities = counts / num_simulations\n",
    "\n",
    "# Displaying the probability for each possible sum\n",
    "for sum_value, probability in zip(unique_sums, sum_probabilities):\n",
    "    print(f\"Probability for sum {sum_value}: {probability:.4f}\")\n",
    "\n",
    "# Histogram\n",
    "plt.hist(sums, bins=range(2,14), edgecolor='black', density=True)\n",
    "plt.xticks(range(2,14))\n",
    "plt.xlabel('Sum of Dice')\n",
    "plt.ylabel('Probability')\n",
    "plt.title('Histogram of Sum')\n",
    "plt.show()\n",
    "    \n",
    "# Calculating the probability for each dice side\n",
    "side_probabilities = np.unique(throws_1, return_counts=True)[1] / num_simulations\n",
    "\n",
    "# Displaying the probability for each dice side\n",
    "print(\"\\nProbability for each dice side:\")\n",
    "for side, probability in zip(dice_sides, side_probabilities):\n",
    "    print(f\"Side {side}: {probability:.4f}\")\n",
    "\n",
    "# Histogram\n",
    "plt.hist(dice_sides, bins=range(1,8), edgecolor='black', density=True)\n",
    "plt.xticks(range(1,8))\n",
    "plt.xlabel('Side')\n",
    "plt.ylabel('Probability')\n",
    "plt.title('Histogram of side')\n",
    "plt.show()"
   ]
  },
  {
   "cell_type": "code",
   "execution_count": 45,
   "id": "3cf826ec",
   "metadata": {},
   "outputs": [
    {
     "name": "stdout",
     "output_type": "stream",
     "text": [
      "Covariance when second throw is made if first throw is <= 3: -2.623\n",
      "Covariance when second throw is made if first throw is >= 3: 2.333\n"
     ]
    }
   ],
   "source": []
  },
  {
   "cell_type": "code",
   "execution_count": 28,
   "id": "33a2e4d9",
   "metadata": {},
   "outputs": [
    {
     "data": {
      "application/vnd.jupyter.widget-view+json": {
       "model_id": "b4d0da1307824fc3a742c90e49eb6e04",
       "version_major": 2,
       "version_minor": 0
      },
      "text/plain": [
       "RadioButtons(layout=Layout(width='max-content'), options=('yes, but only if one of the sides is loaded', 'no, …"
      ]
     },
     "metadata": {},
     "output_type": "display_data"
    },
    {
     "data": {
      "application/vnd.jupyter.widget-view+json": {
       "model_id": "bcbe2d977fab4acf90027dcfb6588c1e",
       "version_major": 2,
       "version_minor": 0
      },
      "text/plain": [
       "Button(button_style='success', description='Save your answer!', style=ButtonStyle())"
      ]
     },
     "metadata": {},
     "output_type": "display_data"
    },
    {
     "data": {
      "application/vnd.jupyter.widget-view+json": {
       "model_id": "e212cd1a9f724474aca85aa1d470114a",
       "version_major": 2,
       "version_minor": 0
      },
      "text/plain": [
       "Output()"
      ]
     },
     "metadata": {},
     "output_type": "display_data"
    }
   ],
   "source": [
    "# Run this cell to submit your answer\n",
    "utils.exercise_11()"
   ]
  },
  {
   "cell_type": "markdown",
   "id": "1635ca7c",
   "metadata": {},
   "source": [
    "## Before Submitting Your Assignment\n",
    "\n",
    "Run the next cell to check that you have answered all of the exercises"
   ]
  },
  {
   "cell_type": "code",
   "execution_count": 44,
   "id": "c6822278",
   "metadata": {},
   "outputs": [
    {
     "name": "stdout",
     "output_type": "stream",
     "text": [
      "All answers saved, you can submit the assignment for grading!\n"
     ]
    }
   ],
   "source": [
    "utils.check_submissions()"
   ]
  },
  {
   "cell_type": "markdown",
   "id": "5286008f",
   "metadata": {},
   "source": [
    "**Congratulations on finishing this assignment!**\n",
    "\n",
    "During this assignment you tested your knowledge on probability distributions, descriptive statistics and visual interpretation of these concepts. You had the choice to compute everything analytically or create simulations to assist you get the right answer. You probably also realized that some exercises could be answered without any computations just by looking at certain hidden queues that the visualizations revealed.\n",
    "\n",
    "**Keep up the good work!**\n"
   ]
  }
 ],
 "metadata": {
  "kernelspec": {
   "display_name": "Python 3 (ipykernel)",
   "language": "python",
   "name": "python3"
  },
  "language_info": {
   "codemirror_mode": {
    "name": "ipython",
    "version": 3
   },
   "file_extension": ".py",
   "mimetype": "text/x-python",
   "name": "python",
   "nbconvert_exporter": "python",
   "pygments_lexer": "ipython3",
   "version": "3.10.11"
  }
 },
 "nbformat": 4,
 "nbformat_minor": 5
}
