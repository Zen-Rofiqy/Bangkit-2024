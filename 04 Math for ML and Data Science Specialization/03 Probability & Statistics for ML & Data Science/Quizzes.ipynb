{
 "cells": [
  {
   "cell_type": "markdown",
   "metadata": {},
   "source": [
    "### Week 2"
   ]
  },
  {
   "cell_type": "code",
   "execution_count": 2,
   "metadata": {},
   "outputs": [
    {
     "name": "stdout",
     "output_type": "stream",
     "text": [
      "Var set 1: 8.75\n",
      "Var set 2: 125.0\n",
      "Var set 3: 1.25\n",
      "Var set 4: 12.5\n"
     ]
    }
   ],
   "source": [
    "import numpy as np\n",
    "\n",
    "set1 = np.array([1, 5, 7, 9])\n",
    "set2 = np.array([-20, -10, 0, 10])\n",
    "set3 = np.array([100, 101, 102, 103])\n",
    "set4 = np.array([-10, -5, 0, -5])\n",
    "\n",
    "print(\"Var set 1:\", np.var(set1))\n",
    "print(\"Var set 2:\", np.var(set2))\n",
    "print(\"Var set 3:\", np.var(set3))\n",
    "print(\"Var set 4:\", np.var(set4))"
   ]
  }
 ],
 "metadata": {
  "kernelspec": {
   "display_name": "myenv",
   "language": "python",
   "name": "python3"
  },
  "language_info": {
   "codemirror_mode": {
    "name": "ipython",
    "version": 3
   },
   "file_extension": ".py",
   "mimetype": "text/x-python",
   "name": "python",
   "nbconvert_exporter": "python",
   "pygments_lexer": "ipython3",
   "version": "3.10.6"
  }
 },
 "nbformat": 4,
 "nbformat_minor": 2
}
