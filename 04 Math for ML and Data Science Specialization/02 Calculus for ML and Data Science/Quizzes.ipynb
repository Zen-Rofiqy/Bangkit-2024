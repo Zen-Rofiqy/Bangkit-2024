{
  "cells": [
    {
      "cell_type": "code",
      "execution_count": 1,
      "metadata": {},
      "outputs": [],
      "source": [
        "import numpy as np\n",
        "import matplotlib.pyplot as plt\n",
        "import sympy"
      ]
    },
    {
      "cell_type": "code",
      "execution_count": 3,
      "metadata": {},
      "outputs": [
        {
          "name": "stdout",
          "output_type": "stream",
          "text": [
            "2.0\n"
          ]
        }
      ],
      "source": [
        "x1, y1 = 0, 0.8\n",
        "x2, y2 = 4, 8.8\n",
        "slope = (y2-y1)/(x2-x1)\n",
        "print(slope)"
      ]
    },
    {
      "cell_type": "code",
      "execution_count": 5,
      "metadata": {},
      "outputs": [
        {
          "name": "stdout",
          "output_type": "stream",
          "text": [
            "The rate of change of f(x) at x = 6 is: 12\n"
          ]
        }
      ],
      "source": [
        "import sympy as sp\n",
        "\n",
        "x = sp.symbols('x')\n",
        "f = x**2 + 3\n",
        "\n",
        "# Calculate the derivative of f(x)\n",
        "f_prime = sp.diff(f, x)\n",
        "\n",
        "# Evaluate the derivative at x = 6\n",
        "rate_of_change = f_prime.subs(x, 6)\n",
        "\n",
        "print(\"The rate of change of f(x) at x = 6 is:\", rate_of_change)"
      ]
    },
    {
      "cell_type": "code",
      "execution_count": 7,
      "metadata": {},
      "outputs": [
        {
          "name": "stdout",
          "output_type": "stream",
          "text": [
            " f' ( e^{-x} ) = -exp(-x)\n"
          ]
        }
      ],
      "source": [
        "# ( e^{-x} )\n",
        "x = sp.symbols('x')\n",
        "f = sp.exp(-x)\n",
        "\n",
        "# f' ( e^{-x} )\n",
        "f_prime = sp.diff(f, x)\n",
        "\n",
        "print(\" f' ( e^{-x} ) =\", f_prime)"
      ]
    },
    {
      "cell_type": "code",
      "execution_count": 9,
      "metadata": {},
      "outputs": [
        {
          "name": "stdout",
          "output_type": "stream",
          "text": [
            "The derivative of f(x)g(x) is: 5*x**4\n"
          ]
        }
      ],
      "source": [
        "from sympy import symbols, diff\n",
        "\n",
        "x = symbols('x')\n",
        "\n",
        "# Example\n",
        "f = x**2  \n",
        "g = x**3 \n",
        "\n",
        "# Derivative of f(x)g(x)\n",
        "fg_derivative = diff(f*g, x)\n",
        "\n",
        "print(\"The derivative of f(x)g(x) is:\", fg_derivative)"
      ]
    },
    {
      "cell_type": "code",
      "execution_count": 11,
      "metadata": {},
      "outputs": [
        {
          "name": "stdout",
          "output_type": "stream",
          "text": [
            "Gradient of f(x, y): [y**2 + 2, 2*x*y + 3]\n"
          ]
        }
      ],
      "source": [
        "x, y = symbols('x y')\n",
        "\n",
        "f = x*y**2 + 2*x + 3*y\n",
        "\n",
        "gradient = [diff(f, x), diff(f, y)]\n",
        "\n",
        "print(\"Gradient of f(x, y):\", gradient)"
      ]
    },
    {
      "cell_type": "code",
      "execution_count": 20,
      "metadata": {},
      "outputs": [
        {
          "ename": "AttributeError",
          "evalue": "'Symbol' object has no attribute 'items'",
          "output_type": "error",
          "traceback": [
            "\u001b[1;31m---------------------------------------------------------------------------\u001b[0m",
            "\u001b[1;31mAttributeError\u001b[0m                            Traceback (most recent call last)",
            "Cell \u001b[1;32mIn[20], line 30\u001b[0m\n\u001b[0;32m     27\u001b[0m         minimum_value \u001b[38;5;241m=\u001b[39m f_value\n\u001b[0;32m     28\u001b[0m \u001b[38;5;28;01melse\u001b[39;00m:  \u001b[38;5;66;03m# Handle the case when the solution is not a tuple\u001b[39;00m\n\u001b[0;32m     29\u001b[0m     \u001b[38;5;66;03m# Convert the solution to a dictionary and then evaluate f(x, y)\u001b[39;00m\n\u001b[1;32m---> 30\u001b[0m     point_dict \u001b[38;5;241m=\u001b[39m {var: val \u001b[38;5;28;01mfor\u001b[39;00m var, val \u001b[38;5;129;01min\u001b[39;00m \u001b[43mpoint\u001b[49m\u001b[38;5;241;43m.\u001b[39;49m\u001b[43mitems\u001b[49m()}\n\u001b[0;32m     31\u001b[0m     f_value \u001b[38;5;241m=\u001b[39m f\u001b[38;5;241m.\u001b[39msubs(point_dict)\n\u001b[0;32m     32\u001b[0m     \u001b[38;5;66;03m# Check if the f_value is smaller than the current minimum value\u001b[39;00m\n",
            "\u001b[1;31mAttributeError\u001b[0m: 'Symbol' object has no attribute 'items'"
          ]
        }
      ],
      "source": [
        "from sympy import symbols, diff, solve\n",
        "\n",
        "# Define the symbols to be used\n",
        "x, y = symbols('x y')\n",
        "\n",
        "# Define the function f(x, y)\n",
        "f = x**2 + 2*y**2 + 8*y\n",
        "\n",
        "# Compute the gradient of f(x, y)\n",
        "gradient = [diff(f, x), diff(f, y)]\n",
        "\n",
        "# Solve the gradient equations to find the stationary points\n",
        "stationary_points = solve(gradient, (x, y))\n",
        "\n",
        "# Initialize the minimum value\n",
        "minimum_value = None\n",
        "\n",
        "# Evaluate the function f(x, y) at each stationary point and find the minimum value\n",
        "for point in stationary_points:\n",
        "    if isinstance(point, tuple):  # Check if the solution is a tuple\n",
        "        # Get the values of x and y from the tuple\n",
        "        x_val, y_val = point\n",
        "        # Evaluation of f(x, y) at the stationary point\n",
        "        f_value = f.subs({x: x_val, y: y_val})\n",
        "        # Check if the f_value is smaller than the current minimum value\n",
        "        if minimum_value is None or f_value < minimum_value:\n",
        "            minimum_value = f_value\n",
        "    else:  # Handle the case when the solution is not a tuple\n",
        "        # Convert the solution to a dictionary and then evaluate f(x, y)\n",
        "        point_dict = {var: val for var, val in point.items()}\n",
        "        f_value = f.subs(point_dict)\n",
        "        # Check if the f_value is smaller than the current minimum value\n",
        "        if minimum_value is None or f_value < minimum_value:\n",
        "            minimum_value = f_value\n",
        "\n",
        "# Print the minimum value of f\n",
        "print(\"Minimum value of f:\", minimum_value)"
      ]
    },
    {
      "cell_type": "code",
      "execution_count": null,
      "metadata": {},
      "outputs": [],
      "source": []
    }
  ],
  "metadata": {
    "kernelspec": {
      "display_name": "myenv",
      "language": "python",
      "name": "python3"
    },
    "language_info": {
      "codemirror_mode": {
        "name": "ipython",
        "version": 3
      },
      "file_extension": ".py",
      "mimetype": "text/x-python",
      "name": "python",
      "nbconvert_exporter": "python",
      "pygments_lexer": "ipython3",
      "version": "3.10.6"
    }
  },
  "nbformat": 4,
  "nbformat_minor": 2
}
