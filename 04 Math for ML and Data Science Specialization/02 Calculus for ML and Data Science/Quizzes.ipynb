{
  "cells": [
    {
      "cell_type": "code",
      "execution_count": 1,
      "metadata": {},
      "outputs": [],
      "source": [
        "import numpy as np\n",
        "import matplotlib.pyplot as plt\n",
        "import sympy"
      ]
    },
    {
      "cell_type": "code",
      "execution_count": 3,
      "metadata": {},
      "outputs": [
        {
          "name": "stdout",
          "output_type": "stream",
          "text": [
            "2.0\n"
          ]
        }
      ],
      "source": [
        "x1, y1 = 0, 0.8\n",
        "x2, y2 = 4, 8.8\n",
        "slope = (y2-y1)/(x2-x1)\n",
        "print(slope)"
      ]
    },
    {
      "cell_type": "code",
      "execution_count": 5,
      "metadata": {},
      "outputs": [
        {
          "name": "stdout",
          "output_type": "stream",
          "text": [
            "The rate of change of f(x) at x = 6 is: 12\n"
          ]
        }
      ],
      "source": [
        "import sympy as sp\n",
        "\n",
        "x = sp.symbols('x')\n",
        "f = x**2 + 3\n",
        "\n",
        "# Calculate the derivative of f(x)\n",
        "f_prime = sp.diff(f, x)\n",
        "\n",
        "# Evaluate the derivative at x = 6\n",
        "rate_of_change = f_prime.subs(x, 6)\n",
        "\n",
        "print(\"The rate of change of f(x) at x = 6 is:\", rate_of_change)"
      ]
    },
    {
      "cell_type": "code",
      "execution_count": 7,
      "metadata": {},
      "outputs": [
        {
          "name": "stdout",
          "output_type": "stream",
          "text": [
            " f' ( e^{-x} ) = -exp(-x)\n"
          ]
        }
      ],
      "source": [
        "# ( e^{-x} )\n",
        "x = sp.symbols('x')\n",
        "f = sp.exp(-x)\n",
        "\n",
        "# f' ( e^{-x} )\n",
        "f_prime = sp.diff(f, x)\n",
        "\n",
        "print(\" f' ( e^{-x} ) =\", f_prime)"
      ]
    },
    {
      "cell_type": "code",
      "execution_count": 9,
      "metadata": {},
      "outputs": [
        {
          "name": "stdout",
          "output_type": "stream",
          "text": [
            "The derivative of f(x)g(x) is: 5*x**4\n"
          ]
        }
      ],
      "source": [
        "from sympy import symbols, diff\n",
        "\n",
        "x = symbols('x')\n",
        "\n",
        "# Example\n",
        "f = x**2  \n",
        "g = x**3 \n",
        "\n",
        "# Derivative of f(x)g(x)\n",
        "fg_derivative = diff(f*g, x)\n",
        "\n",
        "print(\"The derivative of f(x)g(x) is:\", fg_derivative)"
      ]
    },
    {
      "cell_type": "code",
      "execution_count": 10,
      "metadata": {},
      "outputs": [
        {
          "name": "stdout",
          "output_type": "stream",
          "text": [
            "Gradient of f(x, y): [y**2 + 2, 2*x*y + 3]\n"
          ]
        }
      ],
      "source": [
        "x, y = symbols('x y')\n",
        "\n",
        "f = x*y**2 + 2*x + 3*y\n",
        "\n",
        "gradient = [diff(f, x), diff(f, y)]\n",
        "\n",
        "print(\"Gradient of f(x, y):\", gradient)"
      ]
    }
  ],
  "metadata": {
    "kernelspec": {
      "display_name": "myenv",
      "language": "python",
      "name": "python3"
    },
    "language_info": {
      "codemirror_mode": {
        "name": "ipython",
        "version": 3
      },
      "file_extension": ".py",
      "mimetype": "text/x-python",
      "name": "python",
      "nbconvert_exporter": "python",
      "pygments_lexer": "ipython3",
      "version": "3.10.6"
    }
  },
  "nbformat": 4,
  "nbformat_minor": 2
}
