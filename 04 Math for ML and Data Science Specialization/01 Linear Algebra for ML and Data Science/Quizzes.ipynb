{
 "cells": [
  {
   "cell_type": "code",
   "execution_count": 23,
   "metadata": {},
   "outputs": [],
   "source": [
    "import numpy as np\n",
    "import matplotlib.pyplot as plt\n",
    "import sympy"
   ]
  },
  {
   "cell_type": "markdown",
   "metadata": {},
   "source": [
    "### Week 1"
   ]
  },
  {
   "cell_type": "code",
   "execution_count": 20,
   "metadata": {},
   "outputs": [
    {
     "name": "stdout",
     "output_type": "stream",
     "text": [
      "[[ 1.  2.  1.]\n",
      " [ 2.  1.  1.]\n",
      " [-1.  2.  1.]] \n",
      "\n",
      "Determinant of matrix A: -2.00\n"
     ]
    }
   ],
   "source": [
    "A = np.array([\n",
    "        [1, 2, 1],\n",
    "        [2, 1, 1],\n",
    "        [-1, 2, 1]\n",
    "    ], dtype=np.dtype(float))\n",
    "\n",
    "print(A,\"\\n\")\n",
    "d = np.linalg.det(A)\n",
    "print(f\"Determinant of matrix A: {d:.2f}\") #if = 0, then singular"
   ]
  },
  {
   "cell_type": "code",
   "execution_count": 24,
   "metadata": {},
   "outputs": [
    {
     "name": "stdout",
     "output_type": "stream",
     "text": [
      "[[1. 2. 3.]\n",
      " [3. 2. 1.]\n",
      " [2. 2. 1.]] \n",
      "\n",
      "(Matrix([\n",
      "[1, 0, 0],\n",
      "[0, 1, 0],\n",
      "[0, 0, 1]]), (0, 1, 2))\n"
     ]
    }
   ],
   "source": [
    "A = np.array([\n",
    "        [1, 2, 3],\n",
    "        [3, 2, 1],\n",
    "        [2, 2, 1]\n",
    "    ], dtype=np.dtype(float))\n",
    "\n",
    "print(A,\"\\n\")\n",
    "inds = sympy.Matrix(A).T.rref()\n",
    "print(inds) #Rows that showed = Linearly independent rows. If not then linearly dependent rows"
   ]
  },
  {
   "cell_type": "code",
   "execution_count": 32,
   "metadata": {},
   "outputs": [
    {
     "name": "stdout",
     "output_type": "stream",
     "text": [
      "[[2. 1. 5.]\n",
      " [1. 2. 1.]\n",
      " [3. 3. 6.]] \n",
      "\n",
      "(Matrix([\n",
      "[1, 0, 1.0],\n",
      "[0, 1, 1.0],\n",
      "[0, 0,   0]]), (0, 1))\n"
     ]
    }
   ],
   "source": [
    "x=3 ; y=3; z=6\n",
    "A = np.array([\n",
    "        [2, 1, 5],\n",
    "        [1, 2, 1],\n",
    "        [x, y, z]\n",
    "    ], dtype=np.dtype(float))\n",
    "\n",
    "print(A,\"\\n\")\n",
    "inds = sympy.Matrix(A).T.rref()\n",
    "print(inds) #Rows that showed = Linearly independent rows. If not then linearly dependent rows"
   ]
  },
  {
   "cell_type": "code",
   "execution_count": 35,
   "metadata": {},
   "outputs": [
    {
     "name": "stdout",
     "output_type": "stream",
     "text": [
      "[[1. 2. 3.]\n",
      " [0. 2. 2.]\n",
      " [1. 4. 5.]] \n",
      "\n",
      "Determinant of matrix A: 0.00\n"
     ]
    }
   ],
   "source": [
    "A = np.array([\n",
    "        [1, 2, 3],\n",
    "        [0, 2, 2],\n",
    "        [1, 4, 5]\n",
    "    ], dtype=np.dtype(float))\n",
    "\n",
    "print(A,\"\\n\")\n",
    "d = np.linalg.det(A)\n",
    "print(f\"Determinant of matrix A: {d:.2f}\") #if = 0, then singular"
   ]
  },
  {
   "cell_type": "markdown",
   "metadata": {},
   "source": [
    "### Week 2"
   ]
  },
  {
   "cell_type": "code",
   "execution_count": 37,
   "metadata": {},
   "outputs": [
    {
     "name": "stdout",
     "output_type": "stream",
     "text": [
      "Solution: [3. 8.]\n"
     ]
    }
   ],
   "source": [
    "A = np.array([\n",
    "        [2, 5],\n",
    "        [8, 1]\n",
    "    ], dtype=np.dtype(float))\n",
    "\n",
    "b = np.array([46, 32], dtype=np.dtype(float))\n",
    "\n",
    "x = np.linalg.solve(A, b)\n",
    "\n",
    "print(f\"Solution: {x}\")"
   ]
  },
  {
   "cell_type": "code",
   "execution_count": 38,
   "metadata": {},
   "outputs": [
    {
     "ename": "LinAlgError",
     "evalue": "Singular matrix",
     "output_type": "error",
     "traceback": [
      "\u001b[1;31m---------------------------------------------------------------------------\u001b[0m",
      "\u001b[1;31mLinAlgError\u001b[0m                               Traceback (most recent call last)",
      "Cell \u001b[1;32mIn[38], line 8\u001b[0m\n\u001b[0;32m      1\u001b[0m A \u001b[38;5;241m=\u001b[39m np\u001b[38;5;241m.\u001b[39marray([\n\u001b[0;32m      2\u001b[0m         [\u001b[38;5;241m5\u001b[39m, \u001b[38;5;241m1\u001b[39m],\n\u001b[0;32m      3\u001b[0m         [\u001b[38;5;241m10\u001b[39m, \u001b[38;5;241m2\u001b[39m]\n\u001b[0;32m      4\u001b[0m     ], dtype\u001b[38;5;241m=\u001b[39mnp\u001b[38;5;241m.\u001b[39mdtype(\u001b[38;5;28mfloat\u001b[39m))\n\u001b[0;32m      6\u001b[0m b \u001b[38;5;241m=\u001b[39m np\u001b[38;5;241m.\u001b[39marray([\u001b[38;5;241m11\u001b[39m, \u001b[38;5;241m22\u001b[39m], dtype\u001b[38;5;241m=\u001b[39mnp\u001b[38;5;241m.\u001b[39mdtype(\u001b[38;5;28mfloat\u001b[39m))\n\u001b[1;32m----> 8\u001b[0m x \u001b[38;5;241m=\u001b[39m \u001b[43mnp\u001b[49m\u001b[38;5;241;43m.\u001b[39;49m\u001b[43mlinalg\u001b[49m\u001b[38;5;241;43m.\u001b[39;49m\u001b[43msolve\u001b[49m\u001b[43m(\u001b[49m\u001b[43mA\u001b[49m\u001b[43m,\u001b[49m\u001b[43m \u001b[49m\u001b[43mb\u001b[49m\u001b[43m)\u001b[49m\n\u001b[0;32m     10\u001b[0m \u001b[38;5;28mprint\u001b[39m(\u001b[38;5;124mf\u001b[39m\u001b[38;5;124m\"\u001b[39m\u001b[38;5;124mSolution: \u001b[39m\u001b[38;5;132;01m{\u001b[39;00mx\u001b[38;5;132;01m}\u001b[39;00m\u001b[38;5;124m\"\u001b[39m)\n",
      "File \u001b[1;32mc:\\Users\\Fathan\\Documents\\Obsidian Vault\\2. Kuliah\\Smt 6\\@ Bangkit 2024\\myenv\\lib\\site-packages\\numpy\\linalg\\linalg.py:409\u001b[0m, in \u001b[0;36msolve\u001b[1;34m(a, b)\u001b[0m\n\u001b[0;32m    407\u001b[0m signature \u001b[38;5;241m=\u001b[39m \u001b[38;5;124m'\u001b[39m\u001b[38;5;124mDD->D\u001b[39m\u001b[38;5;124m'\u001b[39m \u001b[38;5;28;01mif\u001b[39;00m isComplexType(t) \u001b[38;5;28;01melse\u001b[39;00m \u001b[38;5;124m'\u001b[39m\u001b[38;5;124mdd->d\u001b[39m\u001b[38;5;124m'\u001b[39m\n\u001b[0;32m    408\u001b[0m extobj \u001b[38;5;241m=\u001b[39m get_linalg_error_extobj(_raise_linalgerror_singular)\n\u001b[1;32m--> 409\u001b[0m r \u001b[38;5;241m=\u001b[39m \u001b[43mgufunc\u001b[49m\u001b[43m(\u001b[49m\u001b[43ma\u001b[49m\u001b[43m,\u001b[49m\u001b[43m \u001b[49m\u001b[43mb\u001b[49m\u001b[43m,\u001b[49m\u001b[43m \u001b[49m\u001b[43msignature\u001b[49m\u001b[38;5;241;43m=\u001b[39;49m\u001b[43msignature\u001b[49m\u001b[43m,\u001b[49m\u001b[43m \u001b[49m\u001b[43mextobj\u001b[49m\u001b[38;5;241;43m=\u001b[39;49m\u001b[43mextobj\u001b[49m\u001b[43m)\u001b[49m\n\u001b[0;32m    411\u001b[0m \u001b[38;5;28;01mreturn\u001b[39;00m wrap(r\u001b[38;5;241m.\u001b[39mastype(result_t, copy\u001b[38;5;241m=\u001b[39m\u001b[38;5;28;01mFalse\u001b[39;00m))\n",
      "File \u001b[1;32mc:\\Users\\Fathan\\Documents\\Obsidian Vault\\2. Kuliah\\Smt 6\\@ Bangkit 2024\\myenv\\lib\\site-packages\\numpy\\linalg\\linalg.py:112\u001b[0m, in \u001b[0;36m_raise_linalgerror_singular\u001b[1;34m(err, flag)\u001b[0m\n\u001b[0;32m    111\u001b[0m \u001b[38;5;28;01mdef\u001b[39;00m \u001b[38;5;21m_raise_linalgerror_singular\u001b[39m(err, flag):\n\u001b[1;32m--> 112\u001b[0m     \u001b[38;5;28;01mraise\u001b[39;00m LinAlgError(\u001b[38;5;124m\"\u001b[39m\u001b[38;5;124mSingular matrix\u001b[39m\u001b[38;5;124m\"\u001b[39m)\n",
      "\u001b[1;31mLinAlgError\u001b[0m: Singular matrix"
     ]
    }
   ],
   "source": [
    "A = np.array([\n",
    "        [5, 1],\n",
    "        [10, 2]\n",
    "    ], dtype=np.dtype(float))\n",
    "\n",
    "b = np.array([11, 22], dtype=np.dtype(float))\n",
    "\n",
    "x = np.linalg.solve(A, b)\n",
    "\n",
    "print(f\"Solution: {x}\")"
   ]
  },
  {
   "cell_type": "code",
   "execution_count": 41,
   "metadata": {},
   "outputs": [
    {
     "name": "stdout",
     "output_type": "stream",
     "text": [
      "Solution: [-1.  5.]\n"
     ]
    }
   ],
   "source": [
    "A = np.array([\n",
    "        [1, 1],\n",
    "        [-6, 2]\n",
    "    ], dtype=np.dtype(float))\n",
    "\n",
    "b = np.array([4, 16], dtype=np.dtype(float))\n",
    "\n",
    "x = np.linalg.solve(A, b)\n",
    "\n",
    "print(f\"Solution: {x}\")"
   ]
  },
  {
   "cell_type": "code",
   "execution_count": 43,
   "metadata": {},
   "outputs": [
    {
     "name": "stdout",
     "output_type": "stream",
     "text": [
      "[[ 4. -3.]\n",
      " [ 7. -8.]] \n",
      "\n",
      "Determinant of matrix A: -11.00\n"
     ]
    }
   ],
   "source": [
    "A = np.array([\n",
    "        [4, -3],\n",
    "        [7, -8]\n",
    "    ], dtype=np.dtype(float))\n",
    "\n",
    "print(A,\"\\n\")\n",
    "d = np.linalg.det(A)\n",
    "print(f\"Determinant of matrix A: {d:.2f}\") #if = 0, then singular"
   ]
  },
  {
   "cell_type": "code",
   "execution_count": 45,
   "metadata": {},
   "outputs": [
    {
     "name": "stdout",
     "output_type": "stream",
     "text": [
      "[[-3.  8.  1.]\n",
      " [ 2.  2. -1.]\n",
      " [-5.  6.  2.]] \n",
      "\n",
      "Determinant of matrix A: -0.00\n"
     ]
    }
   ],
   "source": [
    "A = np.array([\n",
    "        [-3, 8, 1],\n",
    "        [2, 2, -1],\n",
    "        [-5, 6, 2]\n",
    "    ], dtype=np.dtype(float))\n",
    "\n",
    "print(A,\"\\n\")\n",
    "d = np.linalg.det(A)\n",
    "print(f\"Determinant of matrix A: {d:.2f}\") #if = 0, then singular"
   ]
  },
  {
   "cell_type": "code",
   "execution_count": 46,
   "metadata": {},
   "outputs": [
    {
     "data": {
      "text/plain": [
       "'\\nA = np.array([\\n        [a, b, c],\\n        [d, e, f],\\n        [2*a-d, 2*b-e, 2*c-f]\\n    ], dtype=np.dtype(float))\\nDependent\\n'"
      ]
     },
     "execution_count": 46,
     "metadata": {},
     "output_type": "execute_result"
    }
   ],
   "source": [
    "\"\"\"\n",
    "A = np.array([\n",
    "        [a, b, c],\n",
    "        [d, e, f],\n",
    "        [2*a-d, 2*b-e, 2*c-f]\n",
    "    ], dtype=np.dtype(float))\n",
    "\n",
    "Dependent\n",
    "\"\"\""
   ]
  },
  {
   "cell_type": "code",
   "execution_count": 53,
   "metadata": {},
   "outputs": [
    {
     "name": "stdout",
     "output_type": "stream",
     "text": [
      "[[1. 1.]\n",
      " [1. 3.]] \n",
      "\n",
      "Determinant of matrix A: 2.00\n"
     ]
    }
   ],
   "source": [
    "x=1; y=x; z=3\n",
    "A = np.array([\n",
    "        [x, x],\n",
    "        [y, z]\n",
    "    ], dtype=np.dtype(float))\n",
    "\n",
    "print(A,\"\\n\")\n",
    "d = np.linalg.det(A)\n",
    "print(f\"Determinant of matrix A: {d:.2f}\") #if = 0, then singular"
   ]
  },
  {
   "cell_type": "code",
   "execution_count": 55,
   "metadata": {},
   "outputs": [
    {
     "name": "stdout",
     "output_type": "stream",
     "text": [
      "[[ 5.  1.]\n",
      " [-1.  3.]] \n",
      "\n",
      "The Rank of a Matrix:  2\n"
     ]
    }
   ],
   "source": [
    "A = np.array([\n",
    "        [5, 1],\n",
    "        [-1, 3]\n",
    "    ], dtype=np.dtype(float))\n",
    "\n",
    "print(A,\"\\n\")\n",
    "print(\"The Rank of a Matrix: \", np.linalg.matrix_rank(A))"
   ]
  },
  {
   "cell_type": "code",
   "execution_count": 56,
   "metadata": {},
   "outputs": [
    {
     "name": "stdout",
     "output_type": "stream",
     "text": [
      "[[ 2. -1.]\n",
      " [-6.  3.]] \n",
      "\n",
      "The Rank of a Matrix:  1\n"
     ]
    }
   ],
   "source": [
    "A = np.array([\n",
    "        [2, -1],\n",
    "        [-6, 3]\n",
    "    ], dtype=np.dtype(float))\n",
    "\n",
    "print(A,\"\\n\")\n",
    "print(\"The Rank of a Matrix: \", np.linalg.matrix_rank(A))"
   ]
  },
  {
   "cell_type": "code",
   "execution_count": 77,
   "metadata": {},
   "outputs": [
    {
     "name": "stdout",
     "output_type": "stream",
     "text": [
      "Solution: [ 57. -14.]\n",
      "Solution: [ 57. -42.]\n",
      "Solution: 15.0\n",
      "Solution: 18.0\n"
     ]
    }
   ],
   "source": [
    "A = np.array([\n",
    "        [1, 3],\n",
    "        [3, 12]\n",
    "    ], dtype=np.dtype(float))\n",
    "\n",
    "b = np.array([15, 3], dtype=np.dtype(float))\n",
    "\n",
    "x = np.linalg.solve(A, b)\n",
    "\n",
    "print(f\"Solution: {x}\")\n",
    "print(f\"Solution: {(x * np.array([1, 3]))}\")\n",
    "print(f\"Solution: {sum(x * np.array([1, 3]))}\")\n",
    "print(f\"Solution: {sum(x * np.array([4, 15]))}\")"
   ]
  },
  {
   "cell_type": "code",
   "execution_count": 62,
   "metadata": {},
   "outputs": [
    {
     "ename": "LinAlgError",
     "evalue": "Singular matrix",
     "output_type": "error",
     "traceback": [
      "\u001b[1;31m---------------------------------------------------------------------------\u001b[0m",
      "\u001b[1;31mLinAlgError\u001b[0m                               Traceback (most recent call last)",
      "Cell \u001b[1;32mIn[62], line 8\u001b[0m\n\u001b[0;32m      1\u001b[0m A \u001b[38;5;241m=\u001b[39m np\u001b[38;5;241m.\u001b[39marray([\n\u001b[0;32m      2\u001b[0m         [\u001b[38;5;241m2\u001b[39m, \u001b[38;5;241m1\u001b[39m],\n\u001b[0;32m      3\u001b[0m         [\u001b[38;5;241m4\u001b[39m, \u001b[38;5;241m2\u001b[39m]\n\u001b[0;32m      4\u001b[0m     ], dtype\u001b[38;5;241m=\u001b[39mnp\u001b[38;5;241m.\u001b[39mdtype(\u001b[38;5;28mfloat\u001b[39m))\n\u001b[0;32m      6\u001b[0m b \u001b[38;5;241m=\u001b[39m np\u001b[38;5;241m.\u001b[39marray([\u001b[38;5;241m5\u001b[39m, \u001b[38;5;241m10\u001b[39m], dtype\u001b[38;5;241m=\u001b[39mnp\u001b[38;5;241m.\u001b[39mdtype(\u001b[38;5;28mfloat\u001b[39m))\n\u001b[1;32m----> 8\u001b[0m x \u001b[38;5;241m=\u001b[39m \u001b[43mnp\u001b[49m\u001b[38;5;241;43m.\u001b[39;49m\u001b[43mlinalg\u001b[49m\u001b[38;5;241;43m.\u001b[39;49m\u001b[43msolve\u001b[49m\u001b[43m(\u001b[49m\u001b[43mA\u001b[49m\u001b[43m,\u001b[49m\u001b[43m \u001b[49m\u001b[43mb\u001b[49m\u001b[43m)\u001b[49m\n",
      "File \u001b[1;32mc:\\Users\\Fathan\\Documents\\Obsidian Vault\\2. Kuliah\\Smt 6\\@ Bangkit 2024\\myenv\\lib\\site-packages\\numpy\\linalg\\linalg.py:409\u001b[0m, in \u001b[0;36msolve\u001b[1;34m(a, b)\u001b[0m\n\u001b[0;32m    407\u001b[0m signature \u001b[38;5;241m=\u001b[39m \u001b[38;5;124m'\u001b[39m\u001b[38;5;124mDD->D\u001b[39m\u001b[38;5;124m'\u001b[39m \u001b[38;5;28;01mif\u001b[39;00m isComplexType(t) \u001b[38;5;28;01melse\u001b[39;00m \u001b[38;5;124m'\u001b[39m\u001b[38;5;124mdd->d\u001b[39m\u001b[38;5;124m'\u001b[39m\n\u001b[0;32m    408\u001b[0m extobj \u001b[38;5;241m=\u001b[39m get_linalg_error_extobj(_raise_linalgerror_singular)\n\u001b[1;32m--> 409\u001b[0m r \u001b[38;5;241m=\u001b[39m \u001b[43mgufunc\u001b[49m\u001b[43m(\u001b[49m\u001b[43ma\u001b[49m\u001b[43m,\u001b[49m\u001b[43m \u001b[49m\u001b[43mb\u001b[49m\u001b[43m,\u001b[49m\u001b[43m \u001b[49m\u001b[43msignature\u001b[49m\u001b[38;5;241;43m=\u001b[39;49m\u001b[43msignature\u001b[49m\u001b[43m,\u001b[49m\u001b[43m \u001b[49m\u001b[43mextobj\u001b[49m\u001b[38;5;241;43m=\u001b[39;49m\u001b[43mextobj\u001b[49m\u001b[43m)\u001b[49m\n\u001b[0;32m    411\u001b[0m \u001b[38;5;28;01mreturn\u001b[39;00m wrap(r\u001b[38;5;241m.\u001b[39mastype(result_t, copy\u001b[38;5;241m=\u001b[39m\u001b[38;5;28;01mFalse\u001b[39;00m))\n",
      "File \u001b[1;32mc:\\Users\\Fathan\\Documents\\Obsidian Vault\\2. Kuliah\\Smt 6\\@ Bangkit 2024\\myenv\\lib\\site-packages\\numpy\\linalg\\linalg.py:112\u001b[0m, in \u001b[0;36m_raise_linalgerror_singular\u001b[1;34m(err, flag)\u001b[0m\n\u001b[0;32m    111\u001b[0m \u001b[38;5;28;01mdef\u001b[39;00m \u001b[38;5;21m_raise_linalgerror_singular\u001b[39m(err, flag):\n\u001b[1;32m--> 112\u001b[0m     \u001b[38;5;28;01mraise\u001b[39;00m LinAlgError(\u001b[38;5;124m\"\u001b[39m\u001b[38;5;124mSingular matrix\u001b[39m\u001b[38;5;124m\"\u001b[39m)\n",
      "\u001b[1;31mLinAlgError\u001b[0m: Singular matrix"
     ]
    }
   ],
   "source": [
    "A = np.array([\n",
    "        [2, 1],\n",
    "        [4, 2]\n",
    "    ], dtype=np.dtype(float))\n",
    "\n",
    "b = np.array([5, 10], dtype=np.dtype(float))\n",
    "\n",
    "x = np.linalg.solve(A, b) #if error : LinAlgError: Singular matrix. Then The system has infinitely many solutions."
   ]
  },
  {
   "cell_type": "code",
   "execution_count": 65,
   "metadata": {},
   "outputs": [
    {
     "name": "stdout",
     "output_type": "stream",
     "text": [
      "Solution: [14.  4. -4.]\n"
     ]
    }
   ],
   "source": [
    "A = np.array([\n",
    "        [1, 2, 3],\n",
    "        [2, 6, 12],\n",
    "        [4, -8, 4]\n",
    "    ], dtype=np.dtype(float))\n",
    "\n",
    "b = np.array([10, 4, 8], dtype=np.dtype(float))\n",
    "\n",
    "x = np.linalg.solve(A, b)\n",
    "\n",
    "print(f\"Solution: {x}\")"
   ]
  },
  {
   "cell_type": "code",
   "execution_count": 66,
   "metadata": {},
   "outputs": [
    {
     "name": "stdout",
     "output_type": "stream",
     "text": [
      "[[3. 1.]\n",
      " [6. 2.]] \n",
      "\n",
      "The Rank of a Matrix:  1\n"
     ]
    }
   ],
   "source": [
    "A = np.array([\n",
    "        [3, 1],\n",
    "        [6, 2]\n",
    "    ], dtype=np.dtype(float))\n",
    "\n",
    "print(A,\"\\n\")\n",
    "print(\"The Rank of a Matrix: \", np.linalg.matrix_rank(A))"
   ]
  },
  {
   "cell_type": "code",
   "execution_count": 67,
   "metadata": {},
   "outputs": [],
   "source": [
    "import numpy as np\n",
    "# Function to check if matrix is in REF\n",
    " \n",
    "def is_row_echelon_form(matrix):\n",
    "    if not matrix.any():\n",
    "        return False\n",
    " \n",
    "    rows = matrix.shape[0]\n",
    "    cols = matrix.shape[1]\n",
    "    prev_leading_col = -1\n",
    " \n",
    "    for row in range(rows):\n",
    "        leading_col_found = False\n",
    "        for col in range(cols):\n",
    "            if matrix[row, col] != 0:\n",
    "                if col <= prev_leading_col:\n",
    "                    return False\n",
    "                prev_leading_col = col\n",
    "                leading_col_found = True\n",
    "                break\n",
    "        if not leading_col_found and any(matrix[row, col] != 0 for col in range(cols)):\n",
    "            return False\n",
    "    return True\n",
    " \n",
    "def find_nonzero_row(matrix, pivot_row, col):\n",
    "    nrows = matrix.shape[0]\n",
    "    for row in range(pivot_row, nrows):\n",
    "        if matrix[row, col] != 0:\n",
    "            return row\n",
    "    return None\n",
    " \n",
    "# Swapping rows so that we can have our non zero row on the top of the matrix\n",
    "def swap_rows(matrix, row1, row2):\n",
    "    matrix[[row1, row2]] = matrix[[row2, row1]]\n",
    " \n",
    "def make_pivot_one(matrix, pivot_row, col):\n",
    "    pivot_element = matrix[pivot_row, col]\n",
    "    matrix[pivot_row] //= pivot_element\n",
    "    # print(pivot_element)\n",
    " \n",
    "def eliminate_below(matrix, pivot_row, col):\n",
    "    nrows = matrix.shape[0]\n",
    "    pivot_element = matrix[pivot_row, col]\n",
    "    for row in range(pivot_row + 1, nrows):\n",
    "        factor = matrix[row, col]\n",
    "        matrix[row] -= factor * matrix[pivot_row]\n",
    " \n",
    "# Implementing above functions\n",
    "def row_echelon_form(matrix):\n",
    "    nrows = matrix.shape[0]\n",
    "    ncols = matrix.shape[1]\n",
    "    pivot_row = 0\n",
    "# this will run for number of column times. If matrix has 3 columns this loop will run for 3 times\n",
    "    for col in range(ncols):\n",
    "        nonzero_row = find_nonzero_row(matrix, pivot_row, col)\n",
    "        if nonzero_row is not None:\n",
    "            swap_rows(matrix, pivot_row, nonzero_row)\n",
    "            make_pivot_one(matrix, pivot_row, col)\n",
    "            eliminate_below(matrix, pivot_row, col)\n",
    "            pivot_row += 1\n",
    "    return matrix"
   ]
  },
  {
   "cell_type": "code",
   "execution_count": 69,
   "metadata": {},
   "outputs": [
    {
     "name": "stdout",
     "output_type": "stream",
     "text": [
      "Matrix Before Converting:\n",
      "[[1. 0. 0.]\n",
      " [0. 1. 0.]\n",
      " [0. 0. 0.]]\n",
      "\n",
      "After Converting to Row Echelon Form:\n",
      "[[1. 0. 0.]\n",
      " [0. 1. 0.]\n",
      " [0. 0. 0.]]\n",
      "In REF\n"
     ]
    }
   ],
   "source": [
    "A = np.array([\n",
    "        [1, 0, 0],\n",
    "        [0, 1, 0],\n",
    "        [0, 0, 0]\n",
    "    ], dtype=np.dtype(float))\n",
    "print(\"Matrix Before Converting:\")\n",
    "print(A)\n",
    "print()\n",
    "result = row_echelon_form(A)\n",
    "print(\"After Converting to Row Echelon Form:\")\n",
    "print(result)\n",
    "if is_row_echelon_form(result):\n",
    "    print(\"In REF\")\n",
    "else:\n",
    "    print(\"Not in REF--------------->\")"
   ]
  },
  {
   "cell_type": "code",
   "execution_count": 70,
   "metadata": {},
   "outputs": [
    {
     "name": "stdout",
     "output_type": "stream",
     "text": [
      "Matrix Before Converting:\n",
      "[[1. 1. 1.]\n",
      " [0. 1. 1.]\n",
      " [0. 0. 1.]]\n",
      "\n",
      "After Converting to Row Echelon Form:\n",
      "[[1. 1. 1.]\n",
      " [0. 1. 1.]\n",
      " [0. 0. 1.]]\n",
      "In REF\n"
     ]
    }
   ],
   "source": [
    "A = np.array([\n",
    "        [1, 1, 1],\n",
    "        [0, 1, 1],\n",
    "        [0, 0, 1]\n",
    "    ], dtype=np.dtype(float))\n",
    "print(\"Matrix Before Converting:\")\n",
    "print(A)\n",
    "print()\n",
    "result = row_echelon_form(A)\n",
    "print(\"After Converting to Row Echelon Form:\")\n",
    "print(result)\n",
    "if is_row_echelon_form(result):\n",
    "    print(\"In REF\")\n",
    "else:\n",
    "    print(\"Not in REF--------------->\")"
   ]
  },
  {
   "cell_type": "code",
   "execution_count": 72,
   "metadata": {},
   "outputs": [
    {
     "name": "stdout",
     "output_type": "stream",
     "text": [
      "Matrix Before Converting:\n",
      "[[1. 0. 0.]\n",
      " [1. 0. 1.]\n",
      " [0. 0. 1.]]\n",
      "\n",
      "After Converting to Row Echelon Form:\n",
      "[[1. 0. 0.]\n",
      " [0. 0. 1.]\n",
      " [0. 0. 0.]]\n",
      "In REF\n"
     ]
    }
   ],
   "source": [
    "A = np.array([\n",
    "        [1, 0, 0],\n",
    "        [1, 0, 1],\n",
    "        [0, 0, 1]\n",
    "    ], dtype=np.dtype(float))\n",
    "print(\"Matrix Before Converting:\")\n",
    "print(A)\n",
    "print()\n",
    "result = row_echelon_form(A)\n",
    "print(\"After Converting to Row Echelon Form:\")\n",
    "print(result)\n",
    "if is_row_echelon_form(result):\n",
    "    print(\"In REF\")\n",
    "else:\n",
    "    print(\"Not in REF--------------->\")"
   ]
  },
  {
   "cell_type": "code",
   "execution_count": 73,
   "metadata": {},
   "outputs": [
    {
     "name": "stdout",
     "output_type": "stream",
     "text": [
      "Matrix Before Converting:\n",
      "[[0. 0. 1.]\n",
      " [0. 1. 2.]\n",
      " [0. 0. 0.]]\n",
      "\n",
      "After Converting to Row Echelon Form:\n",
      "[[0. 1. 2.]\n",
      " [0. 0. 1.]\n",
      " [0. 0. 0.]]\n",
      "In REF\n"
     ]
    }
   ],
   "source": [
    "A = np.array([\n",
    "        [0, 0, 1],\n",
    "        [0, 1, 2],\n",
    "        [0, 0, 0]\n",
    "    ], dtype=np.dtype(float))\n",
    "print(\"Matrix Before Converting:\")\n",
    "print(A)\n",
    "print()\n",
    "result = row_echelon_form(A)\n",
    "print(\"After Converting to Row Echelon Form:\")\n",
    "print(result)\n",
    "if is_row_echelon_form(result):\n",
    "    print(\"In REF\")\n",
    "else:\n",
    "    print(\"Not in REF--------------->\")"
   ]
  },
  {
   "cell_type": "code",
   "execution_count": 75,
   "metadata": {},
   "outputs": [
    {
     "name": "stdout",
     "output_type": "stream",
     "text": [
      "Matrix Before Converting:\n",
      "[[1. 3. 2.]\n",
      " [2. 1. 5.]\n",
      " [3. 4. 4.]]\n",
      "\n",
      "After Converting to Row Echelon Form:\n",
      "[[ 1.  3.  2.]\n",
      " [-0.  1. -1.]\n",
      " [-0. -0.  1.]]\n",
      "In REF\n"
     ]
    }
   ],
   "source": [
    "A = np.array([\n",
    "        [1, 3, 2],\n",
    "        [2, 1, 5],\n",
    "        [3, 4, 4]\n",
    "    ], dtype=np.dtype(float))\n",
    "print(\"Matrix Before Converting:\")\n",
    "print(A)\n",
    "print()\n",
    "result = row_echelon_form(A)\n",
    "print(\"After Converting to Row Echelon Form:\")\n",
    "print(result)\n",
    "if is_row_echelon_form(result):\n",
    "    print(\"In REF\")\n",
    "else:\n",
    "    print(\"Not in REF--------------->\")"
   ]
  },
  {
   "cell_type": "code",
   "execution_count": 78,
   "metadata": {},
   "outputs": [
    {
     "name": "stdout",
     "output_type": "stream",
     "text": [
      "[[2. 1. 5.]\n",
      " [1. 3. 1.]\n",
      " [3. 4. 6.]] \n",
      "\n",
      "The Rank of a Matrix:  2\n"
     ]
    }
   ],
   "source": [
    "A = np.array([\n",
    "        [2, 1, 5],\n",
    "        [1, 3, 1],\n",
    "        [3, 4, 6]\n",
    "    ], dtype=np.dtype(float))\n",
    "\n",
    "print(A,\"\\n\")\n",
    "print(\"The Rank of a Matrix: \", np.linalg.matrix_rank(A))"
   ]
  },
  {
   "cell_type": "markdown",
   "metadata": {},
   "source": [
    "### Week 3"
   ]
  },
  {
   "cell_type": "code",
   "execution_count": 82,
   "metadata": {},
   "outputs": [
    {
     "name": "stdout",
     "output_type": "stream",
     "text": [
      "[[7. 5.]]\n",
      "[[-5.  1.]]\n"
     ]
    }
   ],
   "source": [
    "v1 = np.array([ [1,3] ], dtype=np.dtype(float))\n",
    "v2 = np.array([ [6,2] ], dtype=np.dtype(float))\n",
    "print(v1 + v2)\n",
    "print(v1 - v2)"
   ]
  },
  {
   "cell_type": "code",
   "execution_count": 86,
   "metadata": {},
   "outputs": [
    {
     "name": "stdout",
     "output_type": "stream",
     "text": [
      "[[25.]]\n"
     ]
    }
   ],
   "source": [
    "a = np.array([ [-1, 5, 2] ], dtype=np.dtype(float))\n",
    "b = np.array([ [-3, 6, -4] ], dtype=np.dtype(float))\n",
    "print(np.dot(a, b.T))"
   ]
  },
  {
   "cell_type": "code",
   "execution_count": 88,
   "metadata": {},
   "outputs": [
    {
     "name": "stdout",
     "output_type": "stream",
     "text": [
      "0\n",
      "0\n"
     ]
    }
   ],
   "source": [
    "a = np.array([0, 0, 0])  \n",
    "b = np.array([1, 9, 8])  \n",
    "print(np.dot(a, a.T))\n",
    "print(np.dot(a, b.T))"
   ]
  },
  {
   "cell_type": "code",
   "execution_count": 90,
   "metadata": {},
   "outputs": [
    {
     "name": "stdout",
     "output_type": "stream",
     "text": [
      "[[ 2.  9. 21. -6.]\n",
      " [ 1. -3.  8. -4.]]\n"
     ]
    }
   ],
   "source": [
    "a = np.array([\n",
    "        [3, 1, 4],\n",
    "        [2, -1, 2]\n",
    "    ], dtype=np.dtype(float))\n",
    "\n",
    "b = np.array([\n",
    "        [3, 0, 1, -2],\n",
    "        [1, 5, 2, 0],\n",
    "        [-2, 1, 4, 0]\n",
    "    ], dtype=np.dtype(float))\n",
    "\n",
    "print(np.dot(a, b))"
   ]
  },
  {
   "cell_type": "code",
   "execution_count": 93,
   "metadata": {},
   "outputs": [
    {
     "name": "stdout",
     "output_type": "stream",
     "text": [
      "[[1/4 -1/4]\n",
      " [-1/8 5/8]]\n"
     ]
    }
   ],
   "source": [
    "from sympy import Rational\n",
    "A = np.array([\n",
    "        [5, 2],\n",
    "        [1, 2]\n",
    "    ], dtype=np.dtype(float))\n",
    "\n",
    "A_inv = np.linalg.inv(A)\n",
    "\n",
    "A_inv_frac = np.array([[Rational(x).limit_denominator() for x in row] for row in A_inv])\n",
    "\n",
    "print(A_inv_frac)"
   ]
  },
  {
   "cell_type": "code",
   "execution_count": 94,
   "metadata": {},
   "outputs": [
    {
     "ename": "LinAlgError",
     "evalue": "Singular matrix",
     "output_type": "error",
     "traceback": [
      "\u001b[1;31m---------------------------------------------------------------------------\u001b[0m",
      "\u001b[1;31mLinAlgError\u001b[0m                               Traceback (most recent call last)",
      "Cell \u001b[1;32mIn[94], line 6\u001b[0m\n\u001b[0;32m      1\u001b[0m A \u001b[38;5;241m=\u001b[39m np\u001b[38;5;241m.\u001b[39marray([\n\u001b[0;32m      2\u001b[0m         [\u001b[38;5;241m1\u001b[39m, \u001b[38;5;241m1\u001b[39m],\n\u001b[0;32m      3\u001b[0m         [\u001b[38;5;241m2\u001b[39m, \u001b[38;5;241m2\u001b[39m]\n\u001b[0;32m      4\u001b[0m     ], dtype\u001b[38;5;241m=\u001b[39mnp\u001b[38;5;241m.\u001b[39mdtype(\u001b[38;5;28mfloat\u001b[39m))\n\u001b[1;32m----> 6\u001b[0m A_inv \u001b[38;5;241m=\u001b[39m \u001b[43mnp\u001b[49m\u001b[38;5;241;43m.\u001b[39;49m\u001b[43mlinalg\u001b[49m\u001b[38;5;241;43m.\u001b[39;49m\u001b[43minv\u001b[49m\u001b[43m(\u001b[49m\u001b[43mA\u001b[49m\u001b[43m)\u001b[49m\n\u001b[0;32m      8\u001b[0m A_inv_frac \u001b[38;5;241m=\u001b[39m np\u001b[38;5;241m.\u001b[39marray([[Rational(x)\u001b[38;5;241m.\u001b[39mlimit_denominator() \u001b[38;5;28;01mfor\u001b[39;00m x \u001b[38;5;129;01min\u001b[39;00m row] \u001b[38;5;28;01mfor\u001b[39;00m row \u001b[38;5;129;01min\u001b[39;00m A_inv])\n\u001b[0;32m     10\u001b[0m \u001b[38;5;28mprint\u001b[39m(A_inv_frac)\n",
      "File \u001b[1;32mc:\\Users\\Fathan\\Documents\\Obsidian Vault\\2. Kuliah\\Smt 6\\@ Bangkit 2024\\myenv\\lib\\site-packages\\numpy\\linalg\\linalg.py:561\u001b[0m, in \u001b[0;36minv\u001b[1;34m(a)\u001b[0m\n\u001b[0;32m    559\u001b[0m signature \u001b[38;5;241m=\u001b[39m \u001b[38;5;124m'\u001b[39m\u001b[38;5;124mD->D\u001b[39m\u001b[38;5;124m'\u001b[39m \u001b[38;5;28;01mif\u001b[39;00m isComplexType(t) \u001b[38;5;28;01melse\u001b[39;00m \u001b[38;5;124m'\u001b[39m\u001b[38;5;124md->d\u001b[39m\u001b[38;5;124m'\u001b[39m\n\u001b[0;32m    560\u001b[0m extobj \u001b[38;5;241m=\u001b[39m get_linalg_error_extobj(_raise_linalgerror_singular)\n\u001b[1;32m--> 561\u001b[0m ainv \u001b[38;5;241m=\u001b[39m \u001b[43m_umath_linalg\u001b[49m\u001b[38;5;241;43m.\u001b[39;49m\u001b[43minv\u001b[49m\u001b[43m(\u001b[49m\u001b[43ma\u001b[49m\u001b[43m,\u001b[49m\u001b[43m \u001b[49m\u001b[43msignature\u001b[49m\u001b[38;5;241;43m=\u001b[39;49m\u001b[43msignature\u001b[49m\u001b[43m,\u001b[49m\u001b[43m \u001b[49m\u001b[43mextobj\u001b[49m\u001b[38;5;241;43m=\u001b[39;49m\u001b[43mextobj\u001b[49m\u001b[43m)\u001b[49m\n\u001b[0;32m    562\u001b[0m \u001b[38;5;28;01mreturn\u001b[39;00m wrap(ainv\u001b[38;5;241m.\u001b[39mastype(result_t, copy\u001b[38;5;241m=\u001b[39m\u001b[38;5;28;01mFalse\u001b[39;00m))\n",
      "File \u001b[1;32mc:\\Users\\Fathan\\Documents\\Obsidian Vault\\2. Kuliah\\Smt 6\\@ Bangkit 2024\\myenv\\lib\\site-packages\\numpy\\linalg\\linalg.py:112\u001b[0m, in \u001b[0;36m_raise_linalgerror_singular\u001b[1;34m(err, flag)\u001b[0m\n\u001b[0;32m    111\u001b[0m \u001b[38;5;28;01mdef\u001b[39;00m \u001b[38;5;21m_raise_linalgerror_singular\u001b[39m(err, flag):\n\u001b[1;32m--> 112\u001b[0m     \u001b[38;5;28;01mraise\u001b[39;00m LinAlgError(\u001b[38;5;124m\"\u001b[39m\u001b[38;5;124mSingular matrix\u001b[39m\u001b[38;5;124m\"\u001b[39m)\n",
      "\u001b[1;31mLinAlgError\u001b[0m: Singular matrix"
     ]
    }
   ],
   "source": [
    "A = np.array([\n",
    "        [1, 1],\n",
    "        [2, 2]\n",
    "    ], dtype=np.dtype(float))\n",
    "\n",
    "A_inv = np.linalg.inv(A)\n",
    "\n",
    "A_inv_frac = np.array([[Rational(x).limit_denominator() for x in row] for row in A_inv])\n",
    "\n",
    "print(A_inv_frac)"
   ]
  },
  {
   "cell_type": "code",
   "execution_count": null,
   "metadata": {},
   "outputs": [],
   "source": []
  }
 ],
 "metadata": {
  "kernelspec": {
   "display_name": "myenv",
   "language": "python",
   "name": "python3"
  },
  "language_info": {
   "codemirror_mode": {
    "name": "ipython",
    "version": 3
   },
   "file_extension": ".py",
   "mimetype": "text/x-python",
   "name": "python",
   "nbconvert_exporter": "python",
   "pygments_lexer": "ipython3",
   "version": "3.10.6"
  }
 },
 "nbformat": 4,
 "nbformat_minor": 2
}
