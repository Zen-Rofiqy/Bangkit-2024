{
 "cells": [
  {
   "cell_type": "code",
   "execution_count": 23,
   "metadata": {},
   "outputs": [],
   "source": [
    "import numpy as np\n",
    "import matplotlib.pyplot as plt\n",
    "import sympy"
   ]
  },
  {
   "cell_type": "code",
   "execution_count": 20,
   "metadata": {},
   "outputs": [
    {
     "name": "stdout",
     "output_type": "stream",
     "text": [
      "[[ 1.  2.  1.]\n",
      " [ 2.  1.  1.]\n",
      " [-1.  2.  1.]] \n",
      "\n",
      "Determinant of matrix A: -2.00\n"
     ]
    }
   ],
   "source": [
    "A = np.array([\n",
    "        [1, 2, 1],\n",
    "        [2, 1, 1],\n",
    "        [-1, 2, 1]\n",
    "    ], dtype=np.dtype(float))\n",
    "\n",
    "print(A,\"\\n\")\n",
    "d = np.linalg.det(A)\n",
    "print(f\"Determinant of matrix A: {d:.2f}\")"
   ]
  },
  {
   "cell_type": "code",
   "execution_count": 24,
   "metadata": {},
   "outputs": [
    {
     "name": "stdout",
     "output_type": "stream",
     "text": [
      "[[1. 2. 3.]\n",
      " [3. 2. 1.]\n",
      " [2. 2. 1.]] \n",
      "\n",
      "(Matrix([\n",
      "[1, 0, 0],\n",
      "[0, 1, 0],\n",
      "[0, 0, 1]]), (0, 1, 2))\n"
     ]
    }
   ],
   "source": [
    "A = np.array([\n",
    "        [1, 2, 3],\n",
    "        [3, 2, 1],\n",
    "        [2, 2, 1]\n",
    "    ], dtype=np.dtype(float))\n",
    "\n",
    "print(A,\"\\n\")\n",
    "inds = sympy.Matrix(A).T.rref()\n",
    "print(inds) #Rows that showed = Linearly independent rows. If not then linearly dependent rows"
   ]
  },
  {
   "cell_type": "code",
   "execution_count": 32,
   "metadata": {},
   "outputs": [
    {
     "name": "stdout",
     "output_type": "stream",
     "text": [
      "[[2. 1. 5.]\n",
      " [1. 2. 1.]\n",
      " [3. 3. 6.]] \n",
      "\n",
      "(Matrix([\n",
      "[1, 0, 1.0],\n",
      "[0, 1, 1.0],\n",
      "[0, 0,   0]]), (0, 1))\n"
     ]
    }
   ],
   "source": [
    "x=3 ; y=3; z=6\n",
    "A = np.array([\n",
    "        [2, 1, 5],\n",
    "        [1, 2, 1],\n",
    "        [x, y, z]\n",
    "    ], dtype=np.dtype(float))\n",
    "\n",
    "print(A,\"\\n\")\n",
    "inds = sympy.Matrix(A).T.rref()\n",
    "print(inds) #Rows that showed = Linearly independent rows. If not then linearly dependent rows"
   ]
  },
  {
   "cell_type": "code",
   "execution_count": null,
   "metadata": {},
   "outputs": [],
   "source": [
    "A = np.array([\n",
    "        [1, 2, 3],\n",
    "        [3, 2, 1],\n",
    "        [2, 2, 1]\n",
    "    ], dtype=np.dtype(float))\n",
    "\n",
    "print(A,\"\\n\")\n",
    "inds = sympy.Matrix(A).T.rref()\n",
    "print(inds) #Rows that showed = Linearly independent "
   ]
  }
 ],
 "metadata": {
  "kernelspec": {
   "display_name": "myenv",
   "language": "python",
   "name": "python3"
  },
  "language_info": {
   "codemirror_mode": {
    "name": "ipython",
    "version": 3
   },
   "file_extension": ".py",
   "mimetype": "text/x-python",
   "name": "python",
   "nbconvert_exporter": "python",
   "pygments_lexer": "ipython3",
   "version": "3.10.6"
  }
 },
 "nbformat": 4,
 "nbformat_minor": 2
}
