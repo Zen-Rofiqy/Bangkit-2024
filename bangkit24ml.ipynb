{
 "cells": [
  {
   "cell_type": "markdown",
   "metadata": {},
   "source": [
    "# Google IT Automation with Python"
   ]
  },
  {
   "cell_type": "markdown",
   "metadata": {},
   "source": [
    "## Something I don't really get it\n",
    "If a filesystem has a block size of 4096 bytes, this means that a file comprised of only one byte will still use 4096 bytes of storage. A file made up of 4097 bytes will use 4096*2=8192 bytes of storage. Knowing this, can you fill in the gaps in the calculate_storage function below, which calculates the total number of bytes needed to store a file of a given size?"
   ]
  },
  {
   "cell_type": "code",
   "execution_count": 15,
   "metadata": {},
   "outputs": [
    {
     "name": "stdout",
     "output_type": "stream",
     "text": [
      "4096\n",
      "4096\n",
      "8192\n",
      "8192\n"
     ]
    }
   ],
   "source": [
    "def calculate_storage(filesize):\n",
    "    block_size = 4096\n",
    "    # Use floor division to calculate how many blocks are fully occupied\n",
    "    full_blocks = filesize // block_size\n",
    "    # Use the modulo operator to check whether there's any remainder\n",
    "    partial_block_remainder = filesize % block_size\n",
    "    # Depending on whether there's a remainder or not, return\n",
    "    # the total number of bytes required to allocate enough blocks\n",
    "    # to store your data.\n",
    "    if partial_block_remainder > 0:\n",
    "        return (full_blocks + 1) * block_size\n",
    "    return full_blocks * block_size\n",
    "\n",
    "print(calculate_storage(1))    # Should be 4096\n",
    "print(calculate_storage(4096)) # Should be 4096\n",
    "print(calculate_storage(4097)) # Should be 8192\n",
    "print(calculate_storage(6000)) # Should be 8192"
   ]
  },
  {
   "cell_type": "markdown",
   "metadata": {},
   "source": [
    "## Object Oriented Programming (OOP)\n",
    "Referensi : https://docs.python.org/3/reference/datamodel.html"
   ]
  },
  {
   "cell_type": "code",
   "execution_count": 34,
   "metadata": {},
   "outputs": [],
   "source": [
    "class ClassName:\n",
    "    def method_name(self, other_parameters):\n",
    "        body_of_method"
   ]
  },
  {
   "cell_type": "code",
   "execution_count": 23,
   "metadata": {},
   "outputs": [
    {
     "name": "stdout",
     "output_type": "stream",
     "text": [
      "sweet\n",
      "tart\n"
     ]
    }
   ],
   "source": [
    "class Apple:\n",
    "    def __init__(self, color, flavor):\n",
    "        self.color = color\n",
    "        self.flavor = flavor\n",
    "\n",
    "honeycrisp = Apple(\"red\", \"sweet\")\n",
    "fuji = Apple(\"red\", \"tart\")\n",
    "print(honeycrisp.flavor)\n",
    "print(fuji.flavor)"
   ]
  },
  {
   "cell_type": "code",
   "execution_count": 26,
   "metadata": {},
   "outputs": [
    {
     "name": "stdout",
     "output_type": "stream",
     "text": [
      "6 12 8\n"
     ]
    }
   ],
   "source": [
    "class ruang:\n",
    "    def __init__(self, sisi, rusuk, sudut):\n",
    "        self.sisi = sisi\n",
    "        self.rusuk = rusuk\n",
    "        self.sudut = sudut\n",
    "\n",
    "kubus = ruang(6, 12, 8)\n",
    "print(kubus.sisi, kubus.rusuk, kubus.sudut)"
   ]
  },
  {
   "cell_type": "code",
   "execution_count": 28,
   "metadata": {},
   "outputs": [
    {
     "name": "stdout",
     "output_type": "stream",
     "text": [
      "<__main__.ruang object at 0x000001AA622910A0>\n"
     ]
    }
   ],
   "source": [
    "# Masalahnya, gak bisa langsung print kubus :\n",
    "print(kubus)"
   ]
  },
  {
   "cell_type": "code",
   "execution_count": 30,
   "metadata": {},
   "outputs": [
    {
     "name": "stdout",
     "output_type": "stream",
     "text": [
      "an apple which is red and sweet\n"
     ]
    }
   ],
   "source": [
    "# Solusinya : \n",
    "class Apple:\n",
    "    def __init__(self, color, flavor):\n",
    "        self.color = color\n",
    "        self.flavor = flavor\n",
    "\n",
    "    def __str__(self):\n",
    "        return \"an apple which is {} and {}\".format(self.color, self.flavor)\n",
    "\n",
    "honeycrisp = Apple(\"red\", \"sweet\")\n",
    "print(honeycrisp)\n",
    "\n",
    "# prints \"an apple which is red and sweet\""
   ]
  },
  {
   "cell_type": "code",
   "execution_count": 32,
   "metadata": {},
   "outputs": [
    {
     "name": "stdout",
     "output_type": "stream",
     "text": [
      "Bangun Ruang dengan 6 sisi, 12 rusuk, dan 8 titik sudut\n"
     ]
    }
   ],
   "source": [
    "class ruang:\n",
    "    def __init__(self, sisi, rusuk, sudut):\n",
    "        self.sisi = sisi\n",
    "        self.rusuk = rusuk\n",
    "        self.sudut = sudut\n",
    "\n",
    "    def __str__(self):\n",
    "        return \"Bangun Ruang dengan {} sisi, {} rusuk, dan {} titik sudut\".format(\n",
    "            kubus.sisi, kubus.rusuk, kubus.sudut)\n",
    "\n",
    "kubus = ruang(6, 12, 8)\n",
    "print(kubus)"
   ]
  },
  {
   "cell_type": "code",
   "execution_count": 54,
   "metadata": {},
   "outputs": [
    {
     "name": "stdout",
     "output_type": "stream",
     "text": [
      "The area of triangle 1 is 25.0\n",
      "The area of triangle 2 is 24.0\n",
      "The area of both triangles is 49.0\n"
     ]
    }
   ],
   "source": [
    "class Triangle:\n",
    "    def __init__(self, base, height):\n",
    "        self.base = base\n",
    "        self.height = height\n",
    "    def area(self): #Beda dengan constructor, ini fungsi biasa. Dan dipanggil dengan nama fungsi nya\n",
    "        return 0.5 * self.base * self.height\n",
    "    def __add__(self, other):\n",
    "        return self.area() + other.area()\n",
    "    \n",
    "triangle1 = Triangle(10, 5)\n",
    "triangle2 = Triangle(6, 8)\n",
    "print(\"The area of triangle 1 is\", triangle1.area())\n",
    "print(\"The area of triangle 2 is\", triangle2.area())\n",
    "print(\"The area of both triangles is\", triangle1 + triangle2)"
   ]
  },
  {
   "cell_type": "markdown",
   "metadata": {},
   "source": [
    "## Loop\n",
    "Referensi :\n",
    "* https://www.tutorialsteacher.com/python/python-map-function\n",
    "* https://www.tutorialsteacher.com/python/zip-method"
   ]
  },
  {
   "cell_type": "code",
   "execution_count": 55,
   "metadata": {},
   "outputs": [
    {
     "name": "stdout",
     "output_type": "stream",
     "text": [
      "[0|0] [0|1] [0|2] [0|3] [0|4] [0|5] [0|6] \n",
      "[1|1] [1|2] [1|3] [1|4] [1|5] [1|6] \n",
      "[2|2] [2|3] [2|4] [2|5] [2|6] \n",
      "[3|3] [3|4] [3|5] [3|6] \n",
      "[4|4] [4|5] [4|6] \n",
      "[5|5] [5|6] \n",
      "[6|6] \n"
     ]
    }
   ],
   "source": [
    "for left in range(7):\n",
    "  for right in range(left, 7):\n",
    "    print(\"[\" + str(left) + \"|\" + str(right) + \"]\", end=\" \")\n",
    "  print()"
   ]
  },
  {
   "cell_type": "code",
   "execution_count": 51,
   "metadata": {},
   "outputs": [
    {
     "name": "stdout",
     "output_type": "stream",
     "text": [
      "H\n",
      "e\n",
      "l\n",
      "l\n",
      "o\n"
     ]
    }
   ],
   "source": [
    "greeting = 'Hello'\n",
    "index = 0\n",
    "while index < len(greeting):\n",
    "\tprint(greeting[index])\n",
    "\tindex += 1"
   ]
  },
  {
   "cell_type": "code",
   "execution_count": 56,
   "metadata": {},
   "outputs": [
    {
     "name": "stdout",
     "output_type": "stream",
     "text": [
      "H\n",
      "e\n",
      "l\n",
      "l\n",
      "o\n"
     ]
    }
   ],
   "source": [
    "greeting = 'Hello'\n",
    "index = 0\n",
    "while index < len(greeting):\n",
    "    print(greeting[index:index+1])\n",
    "    index += 1"
   ]
  },
  {
   "cell_type": "code",
   "execution_count": 57,
   "metadata": {},
   "outputs": [
    {
     "name": "stdout",
     "output_type": "stream",
     "text": [
      "[1, 4, 9, 16, 25]\n"
     ]
    }
   ],
   "source": [
    "numbers = [1, 2, 3, 4, 5]\n",
    "squared_numbers = [x ** 2 for x in numbers]\n",
    "print(squared_numbers)"
   ]
  },
  {
   "cell_type": "code",
   "execution_count": 90,
   "metadata": {},
   "outputs": [
    {
     "name": "stdout",
     "output_type": "stream",
     "text": [
      "0\n",
      "2\n",
      "4\n",
      "6\n",
      "[0, 2, 4, 6]\n"
     ]
    }
   ],
   "source": [
    "for x in range(7):\n",
    "    if x % 2 == 0:\n",
    "        print(x)\n",
    "\n",
    "# The loop should print 0, 2, 4, 6\n",
    "\n",
    "# As a list comprehension:\n",
    "even_numbers = [x for x in range(7) if x % 2 == 0]\n",
    "print(even_numbers)"
   ]
  },
  {
   "cell_type": "code",
   "execution_count": null,
   "metadata": {},
   "outputs": [],
   "source": [
    "sequence = range(10)\n",
    "new_list = []\n",
    "for x in sequence:\n",
    "    if x % 2 == 0:\n",
    "        new_list.append(x)\n",
    "\n",
    "sequence = range(10)\n",
    "new_list = [x for x in sequence if x % 2 == 0]"
   ]
  },
  {
   "cell_type": "code",
   "execution_count": 83,
   "metadata": {},
   "outputs": [
    {
     "name": "stdout",
     "output_type": "stream",
     "text": [
      "Hi Taylor\n",
      "Hi Luisa\n",
      "Hi Jamaal\n",
      "Hi Eli\n"
     ]
    }
   ],
   "source": [
    "def greet_friends(friends):\n",
    "    for friend in friends:\n",
    "        print(\"Hi \" + friend)\n",
    "\n",
    "greet_friends(['Taylor', 'Luisa', 'Jamaal', 'Eli'])"
   ]
  },
  {
   "cell_type": "code",
   "execution_count": 84,
   "metadata": {},
   "outputs": [
    {
     "name": "stdout",
     "output_type": "stream",
     "text": [
      "Hi B\n",
      "Hi a\n",
      "Hi r\n",
      "Hi r\n",
      "Hi y\n"
     ]
    }
   ],
   "source": [
    "def greet_friends(friends):\n",
    "    for friend in friends:\n",
    "        print(\"Hi \" + friend)\n",
    "\n",
    "greet_friends(\"Barry\")"
   ]
  },
  {
   "cell_type": "code",
   "execution_count": 95,
   "metadata": {},
   "outputs": [
    {
     "name": "stdout",
     "output_type": "stream",
     "text": [
      "o\n",
      "u\n",
      "o\n",
      "e\n",
      "a\n",
      "e\n",
      "e\n",
      "e\n",
      "a\n",
      "a\n",
      "o\n"
     ]
    }
   ],
   "source": [
    "input = \"Four score and seven years ago\"\n",
    "for c in input:\n",
    "  if c.lower() in ['a', 'e', 'i', 'o', 'u']:\n",
    "    print(c)"
   ]
  },
  {
   "cell_type": "code",
   "execution_count": 96,
   "metadata": {},
   "outputs": [
    {
     "name": "stdout",
     "output_type": "stream",
     "text": [
      "['o', 'u', 'o', 'e', 'a', 'e', 'e', 'e', 'a', 'a', 'o']\n"
     ]
    }
   ],
   "source": [
    "input = \"Four score and seven years ago\"\n",
    "print([c for c in input if c.lower() in ['a', 'e', 'i', 'o', 'u']])"
   ]
  },
  {
   "cell_type": "markdown",
   "metadata": {},
   "source": [
    "## Strings"
   ]
  },
  {
   "cell_type": "code",
   "execution_count": 87,
   "metadata": {},
   "outputs": [
    {
     "name": "stdout",
     "output_type": "stream",
     "text": [
      "********\n"
     ]
    }
   ],
   "source": [
    "print(\"*\" * 8)"
   ]
  },
  {
   "cell_type": "code",
   "execution_count": 81,
   "metadata": {},
   "outputs": [
    {
     "name": "stdout",
     "output_type": "stream",
     "text": [
      "G\n",
      "ting\n",
      "Earthlings\n",
      "Greet\n",
      "Earthlings\n",
      "\n",
      "Getns-atlns\n",
      "sgnilhtraE-,sgniteerG\n",
      "02468\n",
      "0369\n",
      "9876543210\n",
      "543210\n",
      "97531\n",
      "9630\n",
      "7531\n",
      "\n",
      "6789\n",
      "456789\n",
      "-\n"
     ]
    }
   ],
   "source": [
    "string1 = \"Greetings,-Earthlings\"\n",
    "print(string1[0])   # Prints “G”\n",
    "print(string1[4:8]) # Prints “ting”\n",
    "print(string1[11:]) # Prints “Earthlings”\n",
    "print(string1[:5])  # Prints “Greet”\n",
    "print(string1[-10:]) # Prints “Earthlings” again\n",
    "print(string1[55:]) # Prints “” \n",
    "print(string1[0::2]) # Prints “Getns atlns”\n",
    "print(string1[::-1]) # Prints “sgnilhtraE ,sgniteerG”\n",
    "string2 = \"0123456789\"\n",
    "print(string2[0::2]) #skip 1 string\n",
    "print(string2[0::3]) #skip 2 string\n",
    "print(string2[::-1]) #skip 0 tapi kebalik dari belakang\n",
    "print(string2[5::-1]) #skip 0 tapi kebalik dari belakang, mulai dari 5\n",
    "print(string2[::-2]) #skip 1 string tapi kebalik\n",
    "print(string2[::-3]) #skip 2 string tapi kebalik\n",
    "print(string2[7::-2]) #skip 1 string tapi kebalik, mulai dari 7\n",
    "\n",
    "print(string2[-4:2]) # out of index gak bakal di print\n",
    "print(string2[-4:]) # ambil 4 string dari belakang (gak kebalik)\n",
    "print(string2[-6:]) # ambil 6 string dari belakang (gak kebalik)\n",
    "print(\"-\")"
   ]
  },
  {
   "cell_type": "code",
   "execution_count": 74,
   "metadata": {},
   "outputs": [
    {
     "name": "stdout",
     "output_type": "stream",
     "text": [
      "Hello world\n",
      "Hello, Alice!\n"
     ]
    }
   ],
   "source": [
    "# pake join\n",
    "greetings = [\"Hello\", \"world\"]\n",
    "print(\" \".join(greetings)) # Prints \"Hello world\"\n",
    "#You can also concatenate a combination of strings and variables like in the following example.\n",
    "name = \"Alice\"\n",
    "print(\"Hello, \" + name + \"!\") # Prints \"Hello, Alice!\""
   ]
  },
  {
   "cell_type": "code",
   "execution_count": 82,
   "metadata": {},
   "outputs": [
    {
     "name": "stdout",
     "output_type": "stream",
     "text": [
      "(202) 555-1212\n"
     ]
    }
   ],
   "source": [
    "def format_phone(phonenum):\n",
    "    area_code = \"(\" + phonenum[:3] + \")\"\n",
    "    exchange = phonenum[3:6]\n",
    "    line = phonenum[-4:]\n",
    "    return area_code + \" \" + exchange + \"-\" + line\n",
    "\n",
    "print(format_phone(\"2025551212\")) # Outputs: (202) 555-1212"
   ]
  },
  {
   "cell_type": "markdown",
   "metadata": {},
   "source": [
    "## Recursion"
   ]
  },
  {
   "cell_type": "code",
   "execution_count": 101,
   "metadata": {},
   "outputs": [
    {
     "data": {
      "text/plain": [
       "120"
      ]
     },
     "execution_count": 101,
     "metadata": {},
     "output_type": "execute_result"
    }
   ],
   "source": [
    "def factorial(n):\n",
    "  if n < 2:\n",
    "    return 1\n",
    "  return n * factorial(n-1)\n",
    "factorial(5)"
   ]
  },
  {
   "cell_type": "code",
   "execution_count": 102,
   "metadata": {},
   "outputs": [
    {
     "name": "stdout",
     "output_type": "stream",
     "text": [
      "Factorial called with 4\n",
      "Factorial called with 3\n",
      "Factorial called with 2\n",
      "Factorial called with 1\n",
      "Returning 1\n",
      "Returning 2 for factorial of 2\n",
      "Returning 6 for factorial of 3\n",
      "Returning 24 for factorial of 4\n"
     ]
    },
    {
     "data": {
      "text/plain": [
       "24"
      ]
     },
     "execution_count": 102,
     "metadata": {},
     "output_type": "execute_result"
    }
   ],
   "source": [
    "def factorial(n):\n",
    "  print(\"Factorial called with \" + str(n))\n",
    "  if n < 2:\n",
    "    print(\"Returning 1\")\n",
    "    return 1\n",
    "  result = n * factorial(n-1)\n",
    "  print(\"Returning \" + str(result) + \" for factorial of \" + str(n))\n",
    "  return result\n",
    "\n",
    "factorial(4)"
   ]
  },
  {
   "cell_type": "code",
   "execution_count": 103,
   "metadata": {},
   "outputs": [
    {
     "name": "stdout",
     "output_type": "stream",
     "text": [
      "True\n",
      "True\n",
      "False\n"
     ]
    }
   ],
   "source": [
    "def is_power_of(number, base):\n",
    " # Base case: when number is smaller than base.\n",
    "    if number < base:\n",
    "        # If number is equal to 1, it's a power (base**0).\n",
    "        return number == 1\n",
    "\n",
    "    # Recursive case: keep dividing number by base.\n",
    "    return is_power_of(number / base, base)\n",
    "\n",
    "\n",
    "print(is_power_of(8,2))     # Should be True\n",
    "print(is_power_of(64,4))    # Should be True\n",
    "print(is_power_of(70,10))   # Should be False"
   ]
  },
  {
   "cell_type": "markdown",
   "metadata": {},
   "source": [
    "Recursion is a process where a function calls itself one or more times with modified values to accomplish a task. This technique can be particularly effective when solving complex problems that can be broken down into smaller, simpler problems of the same type. In the provided code, the count_users function uses recursion to count the number of users that belong to a group within a company's system. It does this by iterating through each member of a group, and if a member is another group, it recursively calls count_users to count the users within that subgroup. However, there is a bug in the code! Can you spot the problem and fix it?"
   ]
  },
  {
   "cell_type": "code",
   "execution_count": 105,
   "metadata": {},
   "outputs": [
    {
     "ename": "NameError",
     "evalue": "name 'get_members' is not defined",
     "output_type": "error",
     "traceback": [
      "\u001b[1;31m---------------------------------------------------------------------------\u001b[0m",
      "\u001b[1;31mNameError\u001b[0m                                 Traceback (most recent call last)",
      "Cell \u001b[1;32mIn[105], line 11\u001b[0m\n\u001b[0;32m      7\u001b[0m       count \u001b[38;5;241m+\u001b[39m\u001b[38;5;241m=\u001b[39m \u001b[38;5;241m1\u001b[39m\n\u001b[0;32m      8\u001b[0m   \u001b[38;5;28;01mreturn\u001b[39;00m count\n\u001b[1;32m---> 11\u001b[0m \u001b[38;5;28mprint\u001b[39m(\u001b[43mcount_users\u001b[49m\u001b[43m(\u001b[49m\u001b[38;5;124;43m\"\u001b[39;49m\u001b[38;5;124;43msales\u001b[39;49m\u001b[38;5;124;43m\"\u001b[39;49m\u001b[43m)\u001b[49m) \u001b[38;5;66;03m# Should be 3\u001b[39;00m\n\u001b[0;32m     12\u001b[0m \u001b[38;5;28mprint\u001b[39m(count_users(\u001b[38;5;124m\"\u001b[39m\u001b[38;5;124mengineering\u001b[39m\u001b[38;5;124m\"\u001b[39m)) \u001b[38;5;66;03m# Should be 8\u001b[39;00m\n\u001b[0;32m     13\u001b[0m \u001b[38;5;28mprint\u001b[39m(count_users(\u001b[38;5;124m\"\u001b[39m\u001b[38;5;124meveryone\u001b[39m\u001b[38;5;124m\"\u001b[39m)) \u001b[38;5;66;03m# Should be 18\u001b[39;00m\n",
      "Cell \u001b[1;32mIn[105], line 3\u001b[0m, in \u001b[0;36mcount_users\u001b[1;34m(group)\u001b[0m\n\u001b[0;32m      1\u001b[0m \u001b[38;5;28;01mdef\u001b[39;00m \u001b[38;5;21mcount_users\u001b[39m(group):\n\u001b[0;32m      2\u001b[0m   count \u001b[38;5;241m=\u001b[39m \u001b[38;5;241m0\u001b[39m\n\u001b[1;32m----> 3\u001b[0m   \u001b[38;5;28;01mfor\u001b[39;00m member \u001b[38;5;129;01min\u001b[39;00m \u001b[43mget_members\u001b[49m(group):\n\u001b[0;32m      4\u001b[0m     \u001b[38;5;28;01mif\u001b[39;00m is_group(member):\n\u001b[0;32m      5\u001b[0m       count \u001b[38;5;241m+\u001b[39m\u001b[38;5;241m=\u001b[39m count_users(member)\n",
      "\u001b[1;31mNameError\u001b[0m: name 'get_members' is not defined"
     ]
    }
   ],
   "source": [
    "# INi jawaban bener nya, tapi emang error\n",
    "def count_users(group):\n",
    "  count = 0\n",
    "  for member in get_members(group):\n",
    "    if is_group(member):\n",
    "      count += count_users(member)\n",
    "    else:\n",
    "      count += 1\n",
    "  return count\n",
    "\n",
    "\n",
    "print(count_users(\"sales\")) # Should be 3\n",
    "print(count_users(\"engineering\")) # Should be 8\n",
    "print(count_users(\"everyone\")) # Should be 18"
   ]
  },
  {
   "cell_type": "code",
   "execution_count": null,
   "metadata": {},
   "outputs": [],
   "source": []
  }
 ],
 "metadata": {
  "kernelspec": {
   "display_name": "Python 3",
   "language": "python",
   "name": "python3"
  },
  "language_info": {
   "codemirror_mode": {
    "name": "ipython",
    "version": 3
   },
   "file_extension": ".py",
   "mimetype": "text/x-python",
   "name": "python",
   "nbconvert_exporter": "python",
   "pygments_lexer": "ipython3",
   "version": "3.12.2"
  }
 },
 "nbformat": 4,
 "nbformat_minor": 2
}
