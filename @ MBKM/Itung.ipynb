{
 "cells": [
  {
   "cell_type": "code",
   "execution_count": 107,
   "metadata": {},
   "outputs": [
    {
     "name": "stdout",
     "output_type": "stream",
     "text": [
      "0                         18.30 - 23.15\n",
      "1    07.00 - 09.30\\n\\n\\n\\n21.00 - 22.30\n",
      "2        10.00 - 11.00\\n\\n20.00 - 22.30\n",
      "3                         14.00 - 15.45\n",
      "4                         10.00 - 14.00\n",
      "Name: Waktu Aktivitas, dtype: object \n",
      "\n",
      "\n",
      "4                                       10.00 - 14.00\n",
      "5                09.00 - 11.00\\n\\n\\n\\n\\n13.00 - 16.00\n",
      "6    09.00-11.00\\n\\n\\n11:00- 12:00\\n\\n\\n15.00 - 21.30\n",
      "Name: Waktu Aktivitas, dtype: object \n",
      "\n",
      "\n"
     ]
    }
   ],
   "source": [
    "import pandas as pd\n",
    "\n",
    "# Membaca file Excel\n",
    "df = pd.read_excel(\"C:\\\\Users\\\\Fathan\\\\Documents\\\\Obsidian Vault\\\\2. Kuliah\\\\Smt 6\\\\@ Bangkit 2024\\\\@ MBKM\\\\G1401211006_Laporan EC_Angga Fathan Rofiqy - BANGKIT .xlsx\", sheet_name='Bulan 1')\n",
    "\n",
    "# Menampilkan data\n",
    "data = df.iloc[4:7]\n",
    "print(df[\"Waktu Aktivitas\"].head(),\"\\n\\n\")\n",
    "print(data[\"Waktu Aktivitas\"],\"\\n\\n\")"
   ]
  },
  {
   "cell_type": "code",
   "execution_count": 110,
   "metadata": {},
   "outputs": [
    {
     "name": "stderr",
     "output_type": "stream",
     "text": [
      "C:\\Users\\Fathan\\AppData\\Local\\Temp\\ipykernel_80168\\3165611806.py:27: SettingWithCopyWarning: \n",
      "A value is trying to be set on a copy of a slice from a DataFrame.\n",
      "Try using .loc[row_indexer,col_indexer] = value instead\n",
      "\n",
      "See the caveats in the documentation: https://pandas.pydata.org/pandas-docs/stable/user_guide/indexing.html#returning-a-view-versus-a-copy\n",
      "  data['Time Difference (minutes)'] = data['Waktu Aktivitas'].apply(calculate_time_difference)\n"
     ]
    },
    {
     "data": {
      "text/plain": [
       "1110"
      ]
     },
     "execution_count": 110,
     "metadata": {},
     "output_type": "execute_result"
    }
   ],
   "source": [
    "from datetime import datetime\n",
    "\n",
    "def calculate_time_difference(waktu):\n",
    "    if isinstance(waktu, int):\n",
    "        waktu = str(waktu)\n",
    "    total_difference_minutes = 0\n",
    "    for rentang_waktu in waktu.split('\\n'):\n",
    "        if rentang_waktu:  # Menghindari elemen kosong\n",
    "            jam_mulai, menit_mulai, jam_akhir, menit_akhir = None, None, None, None\n",
    "            rentang_waktu = rentang_waktu.strip().replace(' ', '')\n",
    "            if '-' in rentang_waktu and ':' in rentang_waktu:\n",
    "                jam_mulai, menit_mulai = map(int, rentang_waktu.split('-')[0].split(':'))\n",
    "                jam_akhir, menit_akhir = map(int, rentang_waktu.split('-')[1].split(':'))\n",
    "            elif '-' in rentang_waktu:\n",
    "                jam_mulai, menit_mulai, jam_akhir, menit_akhir = map(lambda x: int(x), rentang_waktu.replace('-', '.').split('.'))\n",
    "            elif ':' in rentang_waktu:\n",
    "                jam_mulai, menit_mulai = map(int, rentang_waktu.split(':')[0].split('.'))\n",
    "                jam_akhir, menit_akhir = map(int, rentang_waktu.split(':')[1].split('.'))\n",
    "            if jam_mulai is not None and jam_akhir is not None:\n",
    "                menit_akhir += (jam_akhir - jam_mulai) * 60\n",
    "                if menit_akhir < 0:\n",
    "                    menit_akhir += 1440  # Menambahkan 24 jam (1440 menit) jika jam akhir lebih kecil\n",
    "                total_difference_minutes += menit_akhir - menit_mulai\n",
    "    return total_difference_minutes\n",
    "\n",
    "# Coba penghitungan waktu pada data yang telah dipilih\n",
    "data['Time Difference (minutes)'] = data['Waktu Aktivitas'].apply(calculate_time_difference)\n",
    "#harusnya 1110 kalo hitung manual\n",
    "sum(data['Time Difference (minutes)'])"
   ]
  },
  {
   "cell_type": "code",
   "execution_count": 112,
   "metadata": {},
   "outputs": [
    {
     "data": {
      "text/plain": [
       "11490"
      ]
     },
     "execution_count": 112,
     "metadata": {},
     "output_type": "execute_result"
    }
   ],
   "source": [
    "# Coba penghitungan waktu pada data yang telah dipilih\n",
    "df['Time Difference (minutes)'] = df['Waktu Aktivitas'].apply(calculate_time_difference)\n",
    "\n",
    "# Tampilkan hasil\n",
    "sum(df['Time Difference (minutes)'])"
   ]
  },
  {
   "cell_type": "code",
   "execution_count": 1,
   "metadata": {},
   "outputs": [
    {
     "data": {
      "text/plain": [
       "3919.5"
      ]
     },
     "execution_count": 1,
     "metadata": {},
     "output_type": "execute_result"
    }
   ],
   "source": [
    "39 * 100.5"
   ]
  }
 ],
 "metadata": {
  "kernelspec": {
   "display_name": "myenv",
   "language": "python",
   "name": "python3"
  },
  "language_info": {
   "codemirror_mode": {
    "name": "ipython",
    "version": 3
   },
   "file_extension": ".py",
   "mimetype": "text/x-python",
   "name": "python",
   "nbconvert_exporter": "python",
   "pygments_lexer": "ipython3",
   "version": "3.10.6"
  }
 },
 "nbformat": 4,
 "nbformat_minor": 2
}
